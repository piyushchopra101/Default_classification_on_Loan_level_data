{
 "cells": [
  {
   "cell_type": "markdown",
   "metadata": {},
   "source": [
    "# =============================================================================\n",
    "## Outline:\n",
    "You have been approached by the consumer lending department to help them automate their underwriting process. As part of the exercise, they have gathered loan-level performance data indicating whether or not a given credit defaulted. Propose a model-based solution for the department.\n",
    "\n",
    "## Objectives: \n",
    "###### 1.How well should the department expect your model to identify defaults?\n",
    "###### 2.How confident are you the model will work well in implementation (new data)?\n",
    "###### 3.Briefly explain the effect of each variable in your final model on credit risk.\n",
    "###### 4.Please provide the probabilities of default (probability of class = 1) in a csv file as a new column labeled PD.\n",
    "\n",
    "\n",
    "# =============================================================================\n",
    "\n",
    "\n",
    "\n",
    "#### -- Contact  : Piyush Chopra\n",
    "#### -- Email      : piychopra@gmail.com\n",
    "#### -- LinkedIn : https://www.linkedin.com/in/piychopra/"
   ]
  },
  {
   "cell_type": "markdown",
   "metadata": {},
   "source": [
    "# Notebook Index\n",
    "1. Import Libraries\n",
    "2. Data cleaning\n",
    "3. Multicollinearity and Variance Inflation Factor Checks.\n",
    "4. Exploratory Data Analysis: Converting to categorical variables and Data Visualization\n",
    "5. Model Building\n",
    "6. Feature Selection\n",
    "7. Test Results and Accuracy\n",
    "8. Goodness of fit"
   ]
  },
  {
   "cell_type": "markdown",
   "metadata": {},
   "source": [
    "## Import Libraries"
   ]
  },
  {
   "cell_type": "code",
   "execution_count": 1,
   "metadata": {},
   "outputs": [],
   "source": [
    "## Import Python Libraries\n",
    "import pandas as pd\n",
    "import numpy as np\n",
    "import seaborn as sb\n",
    "import matplotlib.pyplot as plt\n",
    "from pylab import rcParams\n",
    "\n",
    "sb.set(style=\"white\")\n",
    "sb.set(style=\"whitegrid\",color_codes=True)\n",
    "pd.set_option('display.max_columns', 500)\n",
    "%matplotlib inline\n",
    "\n",
    "## Scikit Learn Packages\n",
    "from sklearn import preprocessing\n",
    "from sklearn.linear_model import LogisticRegression\n",
    "from sklearn.model_selection import train_test_split\n",
    "from sklearn.metrics import accuracy_score\n",
    "from sklearn.model_selection import cross_val_score, GridSearchCV\n",
    "from sklearn.tree import DecisionTreeClassifier\n",
    "from sklearn.ensemble import RandomForestClassifier\n",
    "from sklearn.feature_selection import RFE\n",
    "from sklearn.preprocessing import StandardScaler\n",
    "#Logistic Regression Model Fitting\n",
    "from sklearn import metrics\n",
    "from sklearn.metrics import classification_report, confusion_matrix\n",
    "from sklearn.preprocessing import StandardScaler\n",
    "from statsmodels.stats.outliers_influence import variance_inflation_factor\n",
    "### ROC Curve\n",
    "from sklearn.metrics import roc_auc_score\n",
    "from sklearn.metrics import roc_curve\n",
    "\n",
    "import statsmodels.api as sm\n",
    "from statsmodels.formula.api import logit\n"
   ]
  },
  {
   "cell_type": "markdown",
   "metadata": {},
   "source": [
    "Import data from CSV file into a Pandas Dataframe for analysis"
   ]
  },
  {
   "cell_type": "code",
   "execution_count": 2,
   "metadata": {
    "scrolled": true
   },
   "outputs": [
    {
     "data": {
      "text/html": [
       "<div>\n",
       "<style scoped>\n",
       "    .dataframe tbody tr th:only-of-type {\n",
       "        vertical-align: middle;\n",
       "    }\n",
       "\n",
       "    .dataframe tbody tr th {\n",
       "        vertical-align: top;\n",
       "    }\n",
       "\n",
       "    .dataframe thead th {\n",
       "        text-align: right;\n",
       "    }\n",
       "</style>\n",
       "<table border=\"1\" class=\"dataframe\">\n",
       "  <thead>\n",
       "    <tr style=\"text-align: right;\">\n",
       "      <th></th>\n",
       "      <th>y</th>\n",
       "      <th>x1</th>\n",
       "      <th>x2</th>\n",
       "      <th>x3</th>\n",
       "      <th>x4</th>\n",
       "      <th>x5</th>\n",
       "      <th>x6</th>\n",
       "    </tr>\n",
       "  </thead>\n",
       "  <tbody>\n",
       "    <tr>\n",
       "      <td>0</td>\n",
       "      <td>1</td>\n",
       "      <td>0</td>\n",
       "      <td>2508</td>\n",
       "      <td>54</td>\n",
       "      <td>231</td>\n",
       "      <td>745</td>\n",
       "      <td>2</td>\n",
       "    </tr>\n",
       "    <tr>\n",
       "      <td>1</td>\n",
       "      <td>1</td>\n",
       "      <td>1</td>\n",
       "      <td>1854</td>\n",
       "      <td>61</td>\n",
       "      <td>504</td>\n",
       "      <td>746</td>\n",
       "      <td>79</td>\n",
       "    </tr>\n",
       "    <tr>\n",
       "      <td>2</td>\n",
       "      <td>1</td>\n",
       "      <td>0</td>\n",
       "      <td>3038</td>\n",
       "      <td>39</td>\n",
       "      <td>126</td>\n",
       "      <td>610</td>\n",
       "      <td>81</td>\n",
       "    </tr>\n",
       "    <tr>\n",
       "      <td>3</td>\n",
       "      <td>0</td>\n",
       "      <td>0</td>\n",
       "      <td>6889</td>\n",
       "      <td>25</td>\n",
       "      <td>719</td>\n",
       "      <td>693</td>\n",
       "      <td>68</td>\n",
       "    </tr>\n",
       "    <tr>\n",
       "      <td>4</td>\n",
       "      <td>1</td>\n",
       "      <td>1</td>\n",
       "      <td>5785</td>\n",
       "      <td>72</td>\n",
       "      <td>189</td>\n",
       "      <td>805</td>\n",
       "      <td>27</td>\n",
       "    </tr>\n",
       "  </tbody>\n",
       "</table>\n",
       "</div>"
      ],
      "text/plain": [
       "   y  x1    x2  x3   x4   x5  x6\n",
       "0  1   0  2508  54  231  745   2\n",
       "1  1   1  1854  61  504  746  79\n",
       "2  1   0  3038  39  126  610  81\n",
       "3  0   0  6889  25  719  693  68\n",
       "4  1   1  5785  72  189  805  27"
      ]
     },
     "execution_count": 2,
     "metadata": {},
     "output_type": "execute_result"
    }
   ],
   "source": [
    "# =============================================================================\n",
    "# Data\n",
    "# =============================================================================\n",
    "\n",
    "loan_application=pd.read_csv(r'/Users/PiyushChopra/Desktop/TCF Bank/interview-exercise/loan_application.csv',usecols = ['y','x1','x2','x3','x4','x5','x6'])\n",
    "\n",
    "#Print the first 5 rows of the data\n",
    "loan_application.head()\n",
    "\n"
   ]
  },
  {
   "cell_type": "markdown",
   "metadata": {},
   "source": [
    "## Data Cleaning\n",
    "\n",
    "Checking for Missing values (NAs and NANs) and removing them before the analysis."
   ]
  },
  {
   "cell_type": "code",
   "execution_count": 3,
   "metadata": {
    "scrolled": true
   },
   "outputs": [
    {
     "name": "stdout",
     "output_type": "stream",
     "text": [
      "<class 'pandas.core.frame.DataFrame'>\n",
      "RangeIndex: 25000 entries, 0 to 24999\n",
      "Data columns (total 7 columns):\n",
      "y     25000 non-null int64\n",
      "x1    25000 non-null int64\n",
      "x2    25000 non-null int64\n",
      "x3    25000 non-null int64\n",
      "x4    25000 non-null int64\n",
      "x5    25000 non-null int64\n",
      "x6    25000 non-null int64\n",
      "dtypes: int64(7)\n",
      "memory usage: 1.3 MB\n",
      "None\n",
      "-----------------------------------\n",
      "Data Types \n",
      " y     int64\n",
      "x1    int64\n",
      "x2    int64\n",
      "x3    int64\n",
      "x4    int64\n",
      "x5    int64\n",
      "x6    int64\n",
      "dtype: object\n",
      "-----------------------------------\n",
      "Any NA's \n",
      " y     False\n",
      "x1    False\n",
      "x2    False\n",
      "x3    False\n",
      "x4    False\n",
      "x5    False\n",
      "x6    False\n",
      "dtype: bool\n",
      "-----------------------------------\n",
      "Total NA's \n",
      " y     0\n",
      "x1    0\n",
      "x2    0\n",
      "x3    0\n",
      "x4    0\n",
      "x5    0\n",
      "x6    0\n",
      "dtype: int64\n",
      "-----------------------------------\n"
     ]
    }
   ],
   "source": [
    "# Check for Missing Values \n",
    "print(loan_application.info())\n",
    "print(\"-----------------------------------\")\n",
    "\n",
    "print(\"Data Types \\n\",loan_application.dtypes)\n",
    "print(\"-----------------------------------\")\n",
    "\n",
    "print(\"Any NA's \\n\",loan_application.isna().any())\n",
    "print(\"-----------------------------------\")\n",
    "\n",
    "print(\"Total NA's \\n\",loan_application.isna().sum())\n",
    "print(\"-----------------------------------\")\n"
   ]
  },
  {
   "cell_type": "markdown",
   "metadata": {},
   "source": [
    "\n",
    "The data has No missing values Across all features. \n",
    " -- This is a good sign. Majority of our the task in data cleaning is eliminated.\n",
    " All of our data are numeric. The data looks good for Model Building. Many python libraries work with numeric data and hence its required to convert categorical inputs to numeric/dummy variables using either one-hot encoding or generating dummies.\n",
    "\n"
   ]
  },
  {
   "cell_type": "markdown",
   "metadata": {},
   "source": [
    "## Multicollinearity and Variance Inflation Factor\n",
    "Let's look at the summary of the data and some plots to understand the patterns in the data."
   ]
  },
  {
   "cell_type": "code",
   "execution_count": 4,
   "metadata": {
    "scrolled": true
   },
   "outputs": [
    {
     "name": "stdout",
     "output_type": "stream",
     "text": [
      "                 y            x1            x2           x3            x4  \\\n",
      "count  25000.00000  25000.000000  25000.000000  25000.00000  25000.000000   \n",
      "mean       0.50008      0.495400   4760.323720     49.05284    472.786800   \n",
      "std        0.50001      0.499989   2156.991931     18.01695    217.319245   \n",
      "min        0.00000      0.000000   1000.000000     18.00000    100.000000   \n",
      "25%        0.00000      0.000000   2886.000000     33.00000    284.000000   \n",
      "50%        1.00000      0.000000   4776.000000     49.00000    471.000000   \n",
      "75%        1.00000      1.000000   6621.000000     65.00000    663.000000   \n",
      "max        1.00000      1.000000   8499.000000     80.00000    850.000000   \n",
      "\n",
      "                 x5            x6  \n",
      "count  25000.000000  25000.000000  \n",
      "mean     674.515880     50.475720  \n",
      "std      100.559481     28.570961  \n",
      "min      500.000000      1.000000  \n",
      "25%      588.000000     26.000000  \n",
      "50%      675.000000     50.000000  \n",
      "75%      761.000000     75.000000  \n",
      "max      850.000000    100.000000  \n"
     ]
    }
   ],
   "source": [
    "## Get a Summary of the Data Set.\n",
    "print(loan_application.describe())"
   ]
  },
  {
   "cell_type": "markdown",
   "metadata": {},
   "source": [
    "Lets understand our data better. Below is a high level information on all the variables in our dataset.\n",
    "1. Y  - Categorical - 2 levels - 0,1\n",
    "2. X1 - Categorical - 2 levels - 0,1\n",
    "3. X2 - Ranges from [1000,8499]\n",
    "4. X3 - Ranges from [18,80] \n",
    "5. X4 - Ranges from [100,850]\n",
    "6. X5 - Ranges from [500,850]\n",
    "7. X6 - Ranges from [1,100]\n",
    "\n",
    "\n",
    "\n",
    "**Potential Reasonings on feature vectors :**\n",
    "\n",
    "\n",
    "Since its a loan-level performance data its safe to assume that \"Age-group\" and a persons \"Credit Rating\" are amongst some of the most useful choices to determine loan eligility and are intuitive variables to determine defaults.\n",
    "\n",
    "From our dataset -- We can try to get some sense of the variables (just making a guess and is not inferring it from the data)\n",
    "Looking at the range of Variable X3, it could be a person's age.\n",
    "Variable X5 could be a person's credit score as it usually ranges between 500-850. \n",
    "\n",
    "To get a better sense of variables we can try to convert these into categorical inputs and see the distribution of defaults across various categories."
   ]
  },
  {
   "cell_type": "code",
   "execution_count": 5,
   "metadata": {},
   "outputs": [],
   "source": [
    "## First Lets make a copy of original Dataset\n",
    "df1=loan_application.copy()"
   ]
  },
  {
   "cell_type": "markdown",
   "metadata": {},
   "source": [
    "We can look at correlation histogram to understand the correlation between our output \"Y\" variable\n",
    "and Predictors . This would also be useful to identify potential cases of possible **multicollinearity** between the predictors"
   ]
  },
  {
   "cell_type": "code",
   "execution_count": 6,
   "metadata": {
    "scrolled": true
   },
   "outputs": [
    {
     "data": {
      "text/plain": [
       "<Figure size 1080x1080 with 0 Axes>"
      ]
     },
     "metadata": {},
     "output_type": "display_data"
    },
    {
     "data": {
      "image/png": "[encoded data removed]",
      "text/plain": [
       "<Figure size 504x360 with 2 Axes>"
      ]
     },
     "metadata": {},
     "output_type": "display_data"
    }
   ],
   "source": [
    "## We can look at correlation across variables to determine correlation between our output \"Y\" variable\n",
    "## and Predictors and look for possible multicollinearity between the predictors\n",
    "corr_df=df1.corr().round(2)\n",
    "max_corr = 0.4\n",
    "plt.figure(figsize=(15,15))\n",
    "mask = np.zeros_like(corr_df)\n",
    "mask[np.triu_indices_from(mask)] = True\n",
    "with sb.axes_style(\"white\"):\n",
    "    f, ax = plt.subplots(figsize=(7, 5))\n",
    "    ax = sb.heatmap(corr_df, mask=mask,vmax=max_corr, square=True, annot=True, cmap=\"YlGnBu\")\n",
    " "
   ]
  },
  {
   "cell_type": "markdown",
   "metadata": {},
   "source": [
    "From the correlation heatmap, we see that Variable X3 has some correlation with the Output \"Y\" variable. The other variables however seem to have poor correlation with Y.\n",
    "Correlation within the Predictors are almost 0 hence we dont have to worry about potential multicollinearity issues. \n"
   ]
  },
  {
   "cell_type": "markdown",
   "metadata": {},
   "source": [
    "Lets Check for **Variance Inflation Factors** to see which variables can be well explained by other independant variables.\n",
    "A higher VIF Score is problematic and the corresponding variable might need more attention while using it in the model, such as removing the variable or using trasformations.\n"
   ]
  },
  {
   "cell_type": "code",
   "execution_count": 7,
   "metadata": {},
   "outputs": [
    {
     "data": {
      "text/html": [
       "<div>\n",
       "<style scoped>\n",
       "    .dataframe tbody tr th:only-of-type {\n",
       "        vertical-align: middle;\n",
       "    }\n",
       "\n",
       "    .dataframe tbody tr th {\n",
       "        vertical-align: top;\n",
       "    }\n",
       "\n",
       "    .dataframe thead th {\n",
       "        text-align: right;\n",
       "    }\n",
       "</style>\n",
       "<table border=\"1\" class=\"dataframe\">\n",
       "  <thead>\n",
       "    <tr style=\"text-align: right;\">\n",
       "      <th></th>\n",
       "      <th>variables</th>\n",
       "      <th>VIF_Score</th>\n",
       "    </tr>\n",
       "  </thead>\n",
       "  <tbody>\n",
       "    <tr>\n",
       "      <td>0</td>\n",
       "      <td>x2</td>\n",
       "      <td>5.442342</td>\n",
       "    </tr>\n",
       "    <tr>\n",
       "      <td>1</td>\n",
       "      <td>x3</td>\n",
       "      <td>7.457182</td>\n",
       "    </tr>\n",
       "    <tr>\n",
       "      <td>2</td>\n",
       "      <td>x4</td>\n",
       "      <td>5.314744</td>\n",
       "    </tr>\n",
       "    <tr>\n",
       "      <td>3</td>\n",
       "      <td>x5</td>\n",
       "      <td>14.658673</td>\n",
       "    </tr>\n",
       "    <tr>\n",
       "      <td>4</td>\n",
       "      <td>x6</td>\n",
       "      <td>3.934864</td>\n",
       "    </tr>\n",
       "  </tbody>\n",
       "</table>\n",
       "</div>"
      ],
      "text/plain": [
       "  variables  VIF_Score\n",
       "0        x2   5.442342\n",
       "1        x3   7.457182\n",
       "2        x4   5.314744\n",
       "3        x5  14.658673\n",
       "4        x6   3.934864"
      ]
     },
     "execution_count": 7,
     "metadata": {},
     "output_type": "execute_result"
    }
   ],
   "source": [
    "def calculate_vif(input_df):\n",
    "  Var_Inf_frame = pd.DataFrame()\n",
    "  Var_Inf_frame[\"variables\"] = input_df.columns\n",
    "  Var_Inf_frame[\"VIF_Score\"] = [variance_inflation_factor(input_df.values, i) for i in  range(input_df.shape[1])]\n",
    "  return(Var_Inf_frame)\n",
    "\n",
    "X1 = df1.drop(columns=[\"y\",\"x1\"])\n",
    "calculate_vif(X1)\n",
    "## From the VIF table, Variable X5 has very high VIF score and needs further attention going forward."
   ]
  },
  {
   "cell_type": "markdown",
   "metadata": {},
   "source": [
    "From the VIF table, Variable X5 has very high VIF score and needs further attention while using it in our model. "
   ]
  },
  {
   "cell_type": "markdown",
   "metadata": {},
   "source": [
    "## Exploratory Data Analysis\n",
    "\n",
    "Let's convert the numeric variables to categorical just for X3 and X5 and see how the distributions look for the whole data."
   ]
  },
  {
   "cell_type": "code",
   "execution_count": 8,
   "metadata": {
    "scrolled": true
   },
   "outputs": [
    {
     "data": {
      "text/html": [
       "<div>\n",
       "<style scoped>\n",
       "    .dataframe tbody tr th:only-of-type {\n",
       "        vertical-align: middle;\n",
       "    }\n",
       "\n",
       "    .dataframe tbody tr th {\n",
       "        vertical-align: top;\n",
       "    }\n",
       "\n",
       "    .dataframe thead th {\n",
       "        text-align: right;\n",
       "    }\n",
       "</style>\n",
       "<table border=\"1\" class=\"dataframe\">\n",
       "  <thead>\n",
       "    <tr style=\"text-align: right;\">\n",
       "      <th></th>\n",
       "      <th>y</th>\n",
       "      <th>x1</th>\n",
       "      <th>x2</th>\n",
       "      <th>x3</th>\n",
       "      <th>x4</th>\n",
       "      <th>x5</th>\n",
       "      <th>x6</th>\n",
       "      <th>X3_Cat</th>\n",
       "      <th>X5_Cat</th>\n",
       "    </tr>\n",
       "  </thead>\n",
       "  <tbody>\n",
       "    <tr>\n",
       "      <td>0</td>\n",
       "      <td>1</td>\n",
       "      <td>0</td>\n",
       "      <td>2508</td>\n",
       "      <td>54</td>\n",
       "      <td>231</td>\n",
       "      <td>745</td>\n",
       "      <td>2</td>\n",
       "      <td>3</td>\n",
       "      <td>3</td>\n",
       "    </tr>\n",
       "    <tr>\n",
       "      <td>1</td>\n",
       "      <td>1</td>\n",
       "      <td>1</td>\n",
       "      <td>1854</td>\n",
       "      <td>61</td>\n",
       "      <td>504</td>\n",
       "      <td>746</td>\n",
       "      <td>79</td>\n",
       "      <td>3</td>\n",
       "      <td>3</td>\n",
       "    </tr>\n",
       "    <tr>\n",
       "      <td>2</td>\n",
       "      <td>1</td>\n",
       "      <td>0</td>\n",
       "      <td>3038</td>\n",
       "      <td>39</td>\n",
       "      <td>126</td>\n",
       "      <td>610</td>\n",
       "      <td>81</td>\n",
       "      <td>2</td>\n",
       "      <td>2</td>\n",
       "    </tr>\n",
       "    <tr>\n",
       "      <td>3</td>\n",
       "      <td>0</td>\n",
       "      <td>0</td>\n",
       "      <td>6889</td>\n",
       "      <td>25</td>\n",
       "      <td>719</td>\n",
       "      <td>693</td>\n",
       "      <td>68</td>\n",
       "      <td>1</td>\n",
       "      <td>2</td>\n",
       "    </tr>\n",
       "    <tr>\n",
       "      <td>4</td>\n",
       "      <td>1</td>\n",
       "      <td>1</td>\n",
       "      <td>5785</td>\n",
       "      <td>72</td>\n",
       "      <td>189</td>\n",
       "      <td>805</td>\n",
       "      <td>27</td>\n",
       "      <td>4</td>\n",
       "      <td>4</td>\n",
       "    </tr>\n",
       "    <tr>\n",
       "      <td>...</td>\n",
       "      <td>...</td>\n",
       "      <td>...</td>\n",
       "      <td>...</td>\n",
       "      <td>...</td>\n",
       "      <td>...</td>\n",
       "      <td>...</td>\n",
       "      <td>...</td>\n",
       "      <td>...</td>\n",
       "      <td>...</td>\n",
       "    </tr>\n",
       "    <tr>\n",
       "      <td>24995</td>\n",
       "      <td>0</td>\n",
       "      <td>1</td>\n",
       "      <td>7929</td>\n",
       "      <td>45</td>\n",
       "      <td>123</td>\n",
       "      <td>548</td>\n",
       "      <td>95</td>\n",
       "      <td>2</td>\n",
       "      <td>1</td>\n",
       "    </tr>\n",
       "    <tr>\n",
       "      <td>24996</td>\n",
       "      <td>0</td>\n",
       "      <td>0</td>\n",
       "      <td>5428</td>\n",
       "      <td>38</td>\n",
       "      <td>269</td>\n",
       "      <td>566</td>\n",
       "      <td>92</td>\n",
       "      <td>2</td>\n",
       "      <td>1</td>\n",
       "    </tr>\n",
       "    <tr>\n",
       "      <td>24997</td>\n",
       "      <td>0</td>\n",
       "      <td>1</td>\n",
       "      <td>3051</td>\n",
       "      <td>21</td>\n",
       "      <td>839</td>\n",
       "      <td>600</td>\n",
       "      <td>11</td>\n",
       "      <td>1</td>\n",
       "      <td>1</td>\n",
       "    </tr>\n",
       "    <tr>\n",
       "      <td>24998</td>\n",
       "      <td>0</td>\n",
       "      <td>0</td>\n",
       "      <td>2917</td>\n",
       "      <td>64</td>\n",
       "      <td>169</td>\n",
       "      <td>526</td>\n",
       "      <td>26</td>\n",
       "      <td>3</td>\n",
       "      <td>1</td>\n",
       "    </tr>\n",
       "    <tr>\n",
       "      <td>24999</td>\n",
       "      <td>1</td>\n",
       "      <td>0</td>\n",
       "      <td>5673</td>\n",
       "      <td>76</td>\n",
       "      <td>192</td>\n",
       "      <td>516</td>\n",
       "      <td>8</td>\n",
       "      <td>4</td>\n",
       "      <td>1</td>\n",
       "    </tr>\n",
       "  </tbody>\n",
       "</table>\n",
       "<p>25000 rows × 9 columns</p>\n",
       "</div>"
      ],
      "text/plain": [
       "       y  x1    x2  x3   x4   x5  x6  X3_Cat  X5_Cat\n",
       "0      1   0  2508  54  231  745   2       3       3\n",
       "1      1   1  1854  61  504  746  79       3       3\n",
       "2      1   0  3038  39  126  610  81       2       2\n",
       "3      0   0  6889  25  719  693  68       1       2\n",
       "4      1   1  5785  72  189  805  27       4       4\n",
       "...   ..  ..   ...  ..  ...  ...  ..     ...     ...\n",
       "24995  0   1  7929  45  123  548  95       2       1\n",
       "24996  0   0  5428  38  269  566  92       2       1\n",
       "24997  0   1  3051  21  839  600  11       1       1\n",
       "24998  0   0  2917  64  169  526  26       3       1\n",
       "24999  1   0  5673  76  192  516   8       4       1\n",
       "\n",
       "[25000 rows x 9 columns]"
      ]
     },
     "execution_count": 8,
     "metadata": {},
     "output_type": "execute_result"
    }
   ],
   "source": [
    "## Converting Variable X3 as Categories\n",
    "X3_bins = [17,30,45,65,85]\n",
    "X3_categories = ['1', '2', '3', '4']\n",
    "df1['X3_Cat'] = pd.cut(df1['x3'], X3_bins, labels=X3_categories).astype(int)\n",
    "\n",
    "## Converting Variable X5 as Categories\n",
    "X5_bins = [450,600,700,800,np.inf]\n",
    "X5_categories = ['1', '2', '3', '4']\n",
    "df1['X5_Cat'] = pd.cut(df1['x5'], X5_bins, labels=X5_categories).astype(int)\n",
    "\n",
    "df1"
   ]
  },
  {
   "cell_type": "markdown",
   "metadata": {},
   "source": [
    "**Counts per category**"
   ]
  },
  {
   "cell_type": "code",
   "execution_count": 9,
   "metadata": {
    "scrolled": true
   },
   "outputs": [
    {
     "name": "stdout",
     "output_type": "stream",
     "text": [
      "Y = 1    12502\n",
      "0    12498\n",
      "Name: y, dtype: int64\n",
      "-----------------------------------\n",
      "0    12615\n",
      "1    12385\n",
      "Name: x1, dtype: int64\n",
      "-----------------------------------\n",
      "3    8072\n",
      "4    5909\n",
      "2    5894\n",
      "1    5125\n",
      "Name: X3_Cat, dtype: int64\n",
      "-----------------------------------\n",
      "3    7206\n",
      "1    7183\n",
      "2    7169\n",
      "4    3442\n",
      "Name: X5_Cat, dtype: int64\n",
      "-----------------------------------\n"
     ]
    }
   ],
   "source": [
    "## Count of Data Points across Categorical variables - Y, X1, X3_Cat, X5_Cat\n",
    "\n",
    "print(\"Y =\",df1['y'].value_counts())\n",
    "print(\"-----------------------------------\")\n",
    "\n",
    "print(df1['x1'].value_counts())\n",
    "print(\"-----------------------------------\")\n",
    "\n",
    "print(df1['X3_Cat'].value_counts())\n",
    "print(\"-----------------------------------\")\n",
    "\n",
    "print(df1['X5_Cat'].value_counts())\n",
    "print(\"-----------------------------------\")\n"
   ]
  },
  {
   "cell_type": "markdown",
   "metadata": {},
   "source": [
    "Output Variable \"Y\" and Predictor \"X1\" are balanced classes with similar obervations across both categories.\n",
    "This is good as we do not have sparse data or have to deal with class imbalance. Often, working with class imbalance (More obersations in one category as opposed to others) have a Significant impact in pulling the results towards the class that is more frequent and thus leads to Bias in our results. \n",
    "In this case, we do not have to perform sampling adjustments to our dataset.\n"
   ]
  },
  {
   "cell_type": "markdown",
   "metadata": {},
   "source": [
    "### **Vizualization: Barplots, Boxplots and Histogram**\n",
    "\n",
    "### **Barplots**"
   ]
  },
  {
   "cell_type": "code",
   "execution_count": 10,
   "metadata": {
    "scrolled": true
   },
   "outputs": [
    {
     "data": {
      "image/png": "[encoded data removed]",
      "text/plain": [
       "<Figure size 432x288 with 1 Axes>"
      ]
     },
     "metadata": {
      "needs_background": "light"
     },
     "output_type": "display_data"
    },
    {
     "data": {
      "image/png": "[encoded data removed]",
      "text/plain": [
       "<Figure size 432x288 with 1 Axes>"
      ]
     },
     "metadata": {
      "needs_background": "light"
     },
     "output_type": "display_data"
    }
   ],
   "source": [
    "## Visualizing data across our New categorical Age-group and Credit Scoring groups.\n",
    "sb.countplot(x='X3_Cat',data=df1,palette='hls')\n",
    "plt.show()\n",
    "sb.countplot(x='X5_Cat',data=df1,palette='hls')\n",
    "plt.show()\n"
   ]
  },
  {
   "cell_type": "markdown",
   "metadata": {},
   "source": [
    "For X3_Cat categorical variable, more observations fall in category 3 than 1, 2 and 4. This means, for variable X3 more customers tend to fall in the range **[45-65]** . For X5_Range categorical variable, categories 1, 2 and 3 have almost same number of observations. Category 4 - range [800,850] has almost half the number of observations. This means, few customers would fall in the range [800,850] for x5 variable and we would expect very low defaults for these customers."
   ]
  },
  {
   "cell_type": "code",
   "execution_count": 11,
   "metadata": {
    "scrolled": true
   },
   "outputs": [
    {
     "data": {
      "text/plain": [
       "Text(0, 0.5, 'Frequency')"
      ]
     },
     "execution_count": 11,
     "metadata": {},
     "output_type": "execute_result"
    },
    {
     "data": {
      "image/png": "[encoded data removed]",
      "text/plain": [
       "<Figure size 432x288 with 1 Axes>"
      ]
     },
     "metadata": {
      "needs_background": "light"
     },
     "output_type": "display_data"
    },
    {
     "data": {
      "image/png": "[encoded data removed]",
      "text/plain": [
       "<Figure size 432x288 with 1 Axes>"
      ]
     },
     "metadata": {
      "needs_background": "light"
     },
     "output_type": "display_data"
    },
    {
     "data": {
      "image/png": "[encoded data removed]",
      "text/plain": [
       "<Figure size 432x288 with 1 Axes>"
      ]
     },
     "metadata": {
      "needs_background": "light"
     },
     "output_type": "display_data"
    }
   ],
   "source": [
    "## Visulizing 2 way plots - Dependant Variable Y with other categorical Predictors - X1, X3, X5\n",
    "pd.crosstab(df1.y,df1.x1).plot(kind='bar')\n",
    "plt.title('Default Frequency Across Predictor: X1')\n",
    "plt.xlabel('Default')\n",
    "plt.ylabel('Frequency')\n",
    "\n",
    "pd.crosstab(df1.y,df1.X3_Cat).plot(kind='bar')\n",
    "plt.title('Default Frequency Across Predictor: Age_Range')\n",
    "plt.xlabel('Default')\n",
    "plt.ylabel('Frequency')\n",
    "\n",
    "pd.crosstab(df1.y,df1.X5_Cat).plot(kind='bar')\n",
    "plt.title('Default Frequency Across Predictor: Credit_score_Range')\n",
    "plt.xlabel('Default')\n",
    "plt.ylabel('Frequency')"
   ]
  },
  {
   "cell_type": "markdown",
   "metadata": {},
   "source": [
    "The barplots above show frequency for each class of Y within each category of variables x1, x3 and x5. Overall the plots suggest that there are differences between the categories of x varibles for classes of Y. \n",
    "\n",
    "As seen from the above barplots too, Category4 in X5_Cat has the least defaults across all categories.\n",
    "Similarly, Category4 in X3_cat has the highest defaults across all other categories."
   ]
  },
  {
   "cell_type": "markdown",
   "metadata": {},
   "source": [
    "### **Boxplots** \n",
    "\n",
    "-- provide a good visual Representation of our data across the Output Variable and helps us to identify patterns in our data.\n"
   ]
  },
  {
   "cell_type": "code",
   "execution_count": 12,
   "metadata": {
    "scrolled": true
   },
   "outputs": [
    {
     "data": {
      "text/plain": [
       "<matplotlib.axes._subplots.AxesSubplot at 0x7fcf0a824050>"
      ]
     },
     "execution_count": 12,
     "metadata": {},
     "output_type": "execute_result"
    },
    {
     "data": {
      "image/png": "[encoded data removed]",
      "text/plain": [
       "<Figure size 1080x1080 with 6 Axes>"
      ]
     },
     "metadata": {
      "needs_background": "light"
     },
     "output_type": "display_data"
    }
   ],
   "source": [
    "## Boxplots provide a good visual Representation of our data across the Output Variable and helps us to identify patterns in our data.\n",
    "\n",
    "f, axes = plt.subplots(2,3, figsize=(15, 15), sharex=True)\n",
    "sb.boxplot(x='y', y='x2', data=df1, palette='hls',ax=axes[0, 0])\n",
    "#plt.show()\n",
    "sb.boxplot(x='y', y='x3', data=df1, palette='hls',ax=axes[0, 1])\n",
    "#plt.show()\n",
    "sb.boxplot(x='y', y='x4', data=df1, palette='hls',ax=axes[0, 2])\n",
    "#plt.show()\n",
    "sb.boxplot(x='y', y='x5', data=df1, palette='hls',ax=axes[1, 0])\n",
    "#plt.show()\n",
    "sb.boxplot(x='y', y='x6', data=df1, palette='hls',ax=axes[1, 1])\n"
   ]
  },
  {
   "cell_type": "markdown",
   "metadata": {},
   "source": [
    "Variable X3 and X5 show a visible trend across out output variable. \n",
    "Means across defaulted obligors and Non-defaults are different in variable X3 and X5 suggesting they are potentially good predictors for our Output variable Y.\n"
   ]
  },
  {
   "cell_type": "markdown",
   "metadata": {},
   "source": [
    "### **Histograms**\n",
    "\n",
    "-- provide a good way to visualise the distribution of our data.\n",
    "Since we are interested in classification, we can look at distribution of each predictor varaible across our Output classes.\n",
    "This helps in identifying underlying patterns which we can explore in our model.\n"
   ]
  },
  {
   "cell_type": "code",
   "execution_count": 13,
   "metadata": {
    "scrolled": true
   },
   "outputs": [
    {
     "name": "stdout",
     "output_type": "stream",
     "text": [
      "------ Histogram X2 across Y-Categories------\n"
     ]
    },
    {
     "data": {
      "image/png": "[encoded data removed]",
      "text/plain": [
       "<Figure size 432x288 with 2 Axes>"
      ]
     },
     "metadata": {
      "needs_background": "light"
     },
     "output_type": "display_data"
    },
    {
     "name": "stdout",
     "output_type": "stream",
     "text": [
      "------ Histogram X3 across Y-Categories ------\n"
     ]
    },
    {
     "data": {
      "image/png": "[encoded data removed]",
      "text/plain": [
       "<Figure size 432x288 with 2 Axes>"
      ]
     },
     "metadata": {
      "needs_background": "light"
     },
     "output_type": "display_data"
    },
    {
     "name": "stdout",
     "output_type": "stream",
     "text": [
      "------ Histogram X4 across Y-Categories ------\n"
     ]
    },
    {
     "data": {
      "image/png": "[encoded data removed]",
      "text/plain": [
       "<Figure size 432x288 with 2 Axes>"
      ]
     },
     "metadata": {
      "needs_background": "light"
     },
     "output_type": "display_data"
    },
    {
     "name": "stdout",
     "output_type": "stream",
     "text": [
      "------ Histogram X5 across Y-Categories ------\n"
     ]
    },
    {
     "data": {
      "image/png": "[encoded data removed]",
      "text/plain": [
       "<Figure size 432x288 with 2 Axes>"
      ]
     },
     "metadata": {
      "needs_background": "light"
     },
     "output_type": "display_data"
    },
    {
     "name": "stdout",
     "output_type": "stream",
     "text": [
      "------ Histogram X6 across Y-Categories ------\n"
     ]
    },
    {
     "data": {
      "image/png": "[encoded data removed]",
      "text/plain": [
       "<Figure size 432x288 with 2 Axes>"
      ]
     },
     "metadata": {
      "needs_background": "light"
     },
     "output_type": "display_data"
    }
   ],
   "source": [
    "\n",
    "print(\"------ Histogram X2 across Y-Categories------\")\n",
    "df1['x2'].hist(by=df1['y'])\n",
    "plt.show()\n",
    "\n",
    "print(\"------ Histogram X3 across Y-Categories ------\")\n",
    "\n",
    "df1['x3'].hist(by=df1['y'])\n",
    "plt.show()\n",
    "\n",
    "print(\"------ Histogram X4 across Y-Categories ------\")\n",
    "df1['x4'].hist(by=df1['y'])\n",
    "plt.show()\n",
    "\n",
    "print(\"------ Histogram X5 across Y-Categories ------\")\n",
    "df1['x5'].hist(by=df1['y'])\n",
    "plt.show()\n",
    "\n",
    "print(\"------ Histogram X6 across Y-Categories ------\")\n",
    "df1['x6'].hist(by=df1['y'])\n",
    "plt.show()\n"
   ]
  },
  {
   "cell_type": "markdown",
   "metadata": {},
   "source": [
    "#### **Inference from Histogram**\n",
    "\n",
    "Variable X3 has an upward trend - As X3 increases , the Number of defaults tend to increase.\n",
    "\n",
    "Variable X5 has an Downward trend - As X5 increases , the Number of defaults tend to decrease.\n"
   ]
  },
  {
   "cell_type": "markdown",
   "metadata": {},
   "source": [
    "## Model Building\n",
    "\n",
    "### Initial Model - Logistic Regression.\n",
    "#### Since its a classification Model, we can try out different modeling approaches like Logistic Regression, Random Forest, Support Vector Machines(SVM) and Bayesian Modeling. Looking at simplicity, ease of implementation and interpretability - We will work with Binary Logistic Regression \n"
   ]
  },
  {
   "cell_type": "code",
   "execution_count": 14,
   "metadata": {},
   "outputs": [],
   "source": [
    "## Logistic Regression Data Prep. \n",
    "X=df1.loc[:, df1.columns != \"y\"]\n",
    "y=df1.loc[:, df1.columns == \"y\"]\n",
    "predictor_x_cols=['x1', 'x2', 'x3', 'x4', 'x5', 'x6']"
   ]
  },
  {
   "cell_type": "code",
   "execution_count": 15,
   "metadata": {},
   "outputs": [],
   "source": [
    "# Split the data into training and testing sets. We will use 60% for training and 40% for Testing.\n",
    "X_train, X_test, y_train, y_test = train_test_split(X, y, test_size=0.4, random_state=0)\n"
   ]
  },
  {
   "cell_type": "code",
   "execution_count": 16,
   "metadata": {},
   "outputs": [],
   "source": [
    "## Scaling the data before the model fit.\n",
    "\n",
    "sc_X = StandardScaler()\n",
    "X_train2 = pd.DataFrame(sc_X.fit_transform(X_train))\n",
    "X_test2 = pd.DataFrame(sc_X.transform(X_test))\n",
    "X_train2.columns = X_train.columns.values\n",
    "X_test2.columns = X_test.columns.values\n",
    "X_train2.index = X_train.index.values\n",
    "X_test2.index = X_test.index.values\n",
    "X_train = X_train2\n",
    "X_test = X_test2"
   ]
  },
  {
   "cell_type": "code",
   "execution_count": 17,
   "metadata": {},
   "outputs": [
    {
     "name": "stderr",
     "output_type": "stream",
     "text": [
      "/opt/anaconda3/lib/python3.7/site-packages/numpy/core/fromnumeric.py:2542: FutureWarning: Method .ptp is deprecated and will be removed in a future version. Use numpy.ptp instead.\n",
      "  return ptp(axis=axis, out=out, **kwargs)\n"
     ]
    }
   ],
   "source": [
    "## Add A constant since Logistic regression in statsmodel requires a constant to be specified explicitly.\n",
    "X_train=sm.add_constant(X_train)\n",
    "X_test=sm.add_constant(X_test)\n"
   ]
  },
  {
   "cell_type": "code",
   "execution_count": 18,
   "metadata": {
    "scrolled": true
   },
   "outputs": [
    {
     "name": "stdout",
     "output_type": "stream",
     "text": [
      "Optimization terminated successfully.\n",
      "         Current function value: 0.623230\n",
      "         Iterations 5\n",
      "const    0.011888\n",
      "x1       0.279651\n",
      "x2       0.002065\n",
      "x3       0.709258\n",
      "x4      -0.023118\n",
      "x5      -0.298272\n",
      "x6      -0.005897\n",
      "dtype: float64\n",
      "[[4682. 2776.]\n",
      " [2751. 4791.]]\n",
      "                           Logit Regression Results                           \n",
      "==============================================================================\n",
      "Dep. Variable:                      y   No. Observations:                15000\n",
      "Model:                          Logit   Df Residuals:                    14993\n",
      "Method:                           MLE   Df Model:                            6\n",
      "Date:                Mon, 14 Dec 2020   Pseudo R-squ.:                  0.1008\n",
      "Time:                        14:56:43   Log-Likelihood:                -9348.4\n",
      "converged:                       True   LL-Null:                       -10397.\n",
      "Covariance Type:            nonrobust   LLR p-value:                     0.000\n",
      "==============================================================================\n",
      "                 coef    std err          z      P>|z|      [0.025      0.975]\n",
      "------------------------------------------------------------------------------\n",
      "const          0.0119      0.018      0.678      0.498      -0.022       0.046\n",
      "x1             0.2797      0.018     15.846      0.000       0.245       0.314\n",
      "x2             0.0021      0.018      0.118      0.906      -0.032       0.036\n",
      "x3             0.7093      0.018     38.420      0.000       0.673       0.745\n",
      "x4            -0.0231      0.018     -1.318      0.187      -0.057       0.011\n",
      "x5            -0.2983      0.018    -16.820      0.000      -0.333      -0.264\n",
      "x6            -0.0059      0.018     -0.336      0.737      -0.040       0.029\n",
      "==============================================================================\n",
      "              precision    recall  f1-score   support\n",
      "\n",
      "           0       0.63      0.63      0.63      7458\n",
      "           1       0.63      0.64      0.63      7542\n",
      "\n",
      "    accuracy                           0.63     15000\n",
      "   macro avg       0.63      0.63      0.63     15000\n",
      "weighted avg       0.63      0.63      0.63     15000\n",
      "\n",
      "              precision    recall  f1-score   support\n",
      "\n",
      "           0       0.63      0.64      0.63      5040\n",
      "           1       0.63      0.63      0.63      4960\n",
      "\n",
      "    accuracy                           0.63     10000\n",
      "   macro avg       0.63      0.63      0.63     10000\n",
      "weighted avg       0.63      0.63      0.63     10000\n",
      "\n"
     ]
    }
   ],
   "source": [
    "## Train initial Model on all Variables.\n",
    "cols1=['const', 'x1', 'x2', 'x3', 'x4', 'x5', 'x6']\n",
    "model1 = sm.Logit(y_train, X_train[cols1])\n",
    "\n",
    "result = model1.fit()\n",
    "print(result.params)\n",
    "\n",
    "## Get Probability of Default PD\n",
    "predictions_prob=result.predict(X_train[cols1])\n",
    "\n",
    "## Get Class labels 0,1 \n",
    "X_predictions=(result.predict(X_train[cols1]) >= 0.5).astype(int)\n",
    "y_predictions=(result.predict(X_test[cols1]) >= 0.5).astype(int)\n",
    "print(result.pred_table())\n",
    "print(result.summary())\n",
    "\n",
    "### Train Set\n",
    "print(classification_report(y_train, X_predictions))\n",
    "\n",
    "### Test Set\n",
    "print(classification_report(y_test, y_predictions))\n"
   ]
  },
  {
   "cell_type": "markdown",
   "metadata": {},
   "source": [
    "Get **Model results** and **Average Marginal Effects** for each predictor Variable:"
   ]
  },
  {
   "cell_type": "code",
   "execution_count": 19,
   "metadata": {},
   "outputs": [
    {
     "name": "stdout",
     "output_type": "stream",
     "text": [
      "Index(['x1', 'x3', 'x5'], dtype='object')\n",
      "Total number of parameters: 7 \n",
      "Number of Significant Parameters: 3\n",
      "--- Odds Ratio of the predictors in our model ---\n"
     ]
    },
    {
     "data": {
      "text/plain": [
       "x3    2.032483\n",
       "x1    1.322668\n",
       "x5    0.742100\n",
       "Name: odds_ratio, dtype: float64"
      ]
     },
     "execution_count": 19,
     "metadata": {},
     "output_type": "execute_result"
    }
   ],
   "source": [
    "# Fetching the statistics\n",
    "stat_df=pd.DataFrame({'coefficients':result.params, 'p-value': result.pvalues, 'odds_ratio': np.exp(result.params)})\n",
    "# Condition for significant parameters\n",
    "significant_params=stat_df[stat_df['p-value']<=0.05].index\n",
    "#significant_params= significant_params.drop('const')\n",
    "print(significant_params)\n",
    "\n",
    "print('Total number of parameters: %s '%len(X_train[cols1].keys()) )\n",
    "print('Number of Significant Parameters: %s'%(len(significant_params)))\n",
    "print('--- Odds Ratio of the predictors in our model ---')\n",
    "stat_df.loc[significant_params].sort_values('odds_ratio', ascending=False)['odds_ratio']"
   ]
  },
  {
   "cell_type": "code",
   "execution_count": 20,
   "metadata": {},
   "outputs": [
    {
     "data": {
      "text/html": [
       "<table class=\"simpletable\">\n",
       "<caption>Logit Marginal Effects</caption>\n",
       "<tr>\n",
       "  <th>Dep. Variable:</th>    <td>y</td>   \n",
       "</tr>\n",
       "<tr>\n",
       "  <th>Method:</th>         <td>dydx</td>  \n",
       "</tr>\n",
       "<tr>\n",
       "  <th>At:</th>            <td>overall</td>\n",
       "</tr>\n",
       "</table>\n",
       "<table class=\"simpletable\">\n",
       "<tr>\n",
       "   <th></th>     <th>dy/dx</th>    <th>std err</th>      <th>z</th>      <th>P>|z|</th>  <th>[0.025</th>    <th>0.975]</th>  \n",
       "</tr>\n",
       "<tr>\n",
       "  <th>x1</th> <td>    0.0606</td> <td>    0.004</td> <td>   16.342</td> <td> 0.000</td> <td>    0.053</td> <td>    0.068</td>\n",
       "</tr>\n",
       "<tr>\n",
       "  <th>x2</th> <td>    0.0004</td> <td>    0.004</td> <td>    0.118</td> <td> 0.906</td> <td>   -0.007</td> <td>    0.008</td>\n",
       "</tr>\n",
       "<tr>\n",
       "  <th>x3</th> <td>    0.1537</td> <td>    0.003</td> <td>   48.128</td> <td> 0.000</td> <td>    0.147</td> <td>    0.160</td>\n",
       "</tr>\n",
       "<tr>\n",
       "  <th>x4</th> <td>   -0.0050</td> <td>    0.004</td> <td>   -1.319</td> <td> 0.187</td> <td>   -0.012</td> <td>    0.002</td>\n",
       "</tr>\n",
       "<tr>\n",
       "  <th>x5</th> <td>   -0.0646</td> <td>    0.004</td> <td>  -17.418</td> <td> 0.000</td> <td>   -0.072</td> <td>   -0.057</td>\n",
       "</tr>\n",
       "<tr>\n",
       "  <th>x6</th> <td>   -0.0013</td> <td>    0.004</td> <td>   -0.336</td> <td> 0.737</td> <td>   -0.009</td> <td>    0.006</td>\n",
       "</tr>\n",
       "</table>"
      ],
      "text/plain": [
       "<class 'statsmodels.iolib.summary.Summary'>\n",
       "\"\"\"\n",
       "        Logit Marginal Effects       \n",
       "=====================================\n",
       "Dep. Variable:                      y\n",
       "Method:                          dydx\n",
       "At:                           overall\n",
       "==============================================================================\n",
       "                dy/dx    std err          z      P>|z|      [0.025      0.975]\n",
       "------------------------------------------------------------------------------\n",
       "x1             0.0606      0.004     16.342      0.000       0.053       0.068\n",
       "x2             0.0004      0.004      0.118      0.906      -0.007       0.008\n",
       "x3             0.1537      0.003     48.128      0.000       0.147       0.160\n",
       "x4            -0.0050      0.004     -1.319      0.187      -0.012       0.002\n",
       "x5            -0.0646      0.004    -17.418      0.000      -0.072      -0.057\n",
       "x6            -0.0013      0.004     -0.336      0.737      -0.009       0.006\n",
       "==============================================================================\n",
       "\"\"\""
      ]
     },
     "execution_count": 20,
     "metadata": {},
     "output_type": "execute_result"
    }
   ],
   "source": [
    "AME=result.get_margeff(at='overall',method='dydx')\n",
    "AME.summary()"
   ]
  },
  {
   "cell_type": "markdown",
   "metadata": {},
   "source": [
    "------------------------------------------------------------------------------------------------------------------------------------\n",
    "\n",
    "**Inferences:**\n",
    "\n",
    "The output of logistic regression provides us with a lot of information. \n",
    "Firstly we can identify the variables which are statistically insignificant in predicting the output variable.\n",
    "This helpd us in feature selection and limiting our model with fewer but best predictors in our model.\n",
    "\n",
    "From the initial model , Variables X1,X3 and X5 are statistically significant as their p-value <0.05. We can try a model with just 3 variables and arrive at good estimates.\n",
    "\n",
    "The model accuracy is around 0.63 with all variables.\n",
    "\n",
    "Marginal effects is a good metric to understand the impact of a predictor on the Outcome variable. It measures the change in outcome as a function of change in predictor variable while keeping others constant\n",
    "\n",
    "The interpretation of Average Marginal Effects is similar to linear models. \n",
    "1. AME  - X1 - 0.0606 - unit increase in X1 increases Probability of default by 6.06% \n",
    "2. AME  - X3 - 0.1537 - unit increase in X3 increases Probability of default by 15.37% \n",
    "3. AME  - X5 - -0.0646 - unit increase in X5 decreases Probability of default by 6.46% \n",
    "4. AME  - X2, X4, X6 have very less impact on the Model's predictive power. they have <0.05% impact on PD for each unit increase.  \n",
    "\n",
    "\n",
    "\n",
    "------------------------------------------------------------------------------------------------------------------------------------"
   ]
  },
  {
   "cell_type": "markdown",
   "metadata": {},
   "source": [
    "### Model 2: Using Categorical X3 and X5. \n"
   ]
  },
  {
   "cell_type": "code",
   "execution_count": 21,
   "metadata": {
    "scrolled": true
   },
   "outputs": [
    {
     "name": "stdout",
     "output_type": "stream",
     "text": [
      "Optimization terminated successfully.\n",
      "         Current function value: 0.627200\n",
      "         Iterations 5\n",
      "const       -9.338236e-01\n",
      "x1           5.518784e-01\n",
      "x2           5.575754e-07\n",
      "x4          -1.027515e-04\n",
      "x6          -2.844368e-04\n",
      "X3_Cat__2    8.700806e-01\n",
      "X3_Cat__3    1.227678e+00\n",
      "X3_Cat__4    2.060955e+00\n",
      "X5_Cat__2   -2.979616e-01\n",
      "X5_Cat__3   -6.183721e-01\n",
      "X5_Cat__4   -7.424939e-01\n",
      "dtype: float64\n",
      "[[4565. 2893.]\n",
      " [2720. 4822.]]\n",
      "                           Logit Regression Results                           \n",
      "==============================================================================\n",
      "Dep. Variable:                      y   No. Observations:                15000\n",
      "Model:                          Logit   Df Residuals:                    14989\n",
      "Method:                           MLE   Df Model:                           10\n",
      "Date:                Mon, 14 Dec 2020   Pseudo R-squ.:                 0.09512\n",
      "Time:                        14:57:57   Log-Likelihood:                -9408.0\n",
      "converged:                       True   LL-Null:                       -10397.\n",
      "Covariance Type:            nonrobust   LLR p-value:                     0.000\n",
      "==============================================================================\n",
      "                 coef    std err          z      P>|z|      [0.025      0.975]\n",
      "------------------------------------------------------------------------------\n",
      "const         -0.9338      0.081    -11.514      0.000      -1.093      -0.775\n",
      "x1             0.5519      0.035     15.712      0.000       0.483       0.621\n",
      "x2          5.576e-07   8.09e-06      0.069      0.945   -1.53e-05    1.64e-05\n",
      "x4            -0.0001   8.05e-05     -1.276      0.202      -0.000    5.51e-05\n",
      "x6            -0.0003      0.001     -0.466      0.641      -0.001       0.001\n",
      "X3_Cat__2      0.8701      0.054     16.025      0.000       0.764       0.976\n",
      "X3_Cat__3      1.2277      0.051     23.957      0.000       1.127       1.328\n",
      "X3_Cat__4      2.0610      0.057     36.234      0.000       1.949       2.172\n",
      "X5_Cat__2     -0.2980      0.046     -6.486      0.000      -0.388      -0.208\n",
      "X5_Cat__3     -0.6184      0.046    -13.339      0.000      -0.709      -0.528\n",
      "X5_Cat__4     -0.7425      0.058    -12.842      0.000      -0.856      -0.629\n",
      "==============================================================================\n",
      "              precision    recall  f1-score   support\n",
      "\n",
      "           0       0.63      0.61      0.62      7458\n",
      "           1       0.63      0.64      0.63      7542\n",
      "\n",
      "    accuracy                           0.63     15000\n",
      "   macro avg       0.63      0.63      0.63     15000\n",
      "weighted avg       0.63      0.63      0.63     15000\n",
      "\n",
      "              precision    recall  f1-score   support\n",
      "\n",
      "           0       0.63      0.63      0.63      5040\n",
      "           1       0.63      0.63      0.63      4960\n",
      "\n",
      "    accuracy                           0.63     10000\n",
      "   macro avg       0.63      0.63      0.63     10000\n",
      "weighted avg       0.63      0.63      0.63     10000\n",
      "\n"
     ]
    },
    {
     "data": {
      "text/html": [
       "<table class=\"simpletable\">\n",
       "<caption>Logit Marginal Effects</caption>\n",
       "<tr>\n",
       "  <th>Dep. Variable:</th>    <td>y</td>   \n",
       "</tr>\n",
       "<tr>\n",
       "  <th>Method:</th>         <td>dydx</td>  \n",
       "</tr>\n",
       "<tr>\n",
       "  <th>At:</th>            <td>overall</td>\n",
       "</tr>\n",
       "</table>\n",
       "<table class=\"simpletable\">\n",
       "<tr>\n",
       "      <th></th>         <th>dy/dx</th>    <th>std err</th>      <th>z</th>      <th>P>|z|</th>  <th>[0.025</th>    <th>0.975]</th>  \n",
       "</tr>\n",
       "<tr>\n",
       "  <th>x1</th>        <td>    0.1207</td> <td>    0.007</td> <td>   16.203</td> <td> 0.000</td> <td>    0.106</td> <td>    0.135</td>\n",
       "</tr>\n",
       "<tr>\n",
       "  <th>x2</th>        <td> 1.219e-07</td> <td> 1.77e-06</td> <td>    0.069</td> <td> 0.945</td> <td>-3.35e-06</td> <td> 3.59e-06</td>\n",
       "</tr>\n",
       "<tr>\n",
       "  <th>x4</th>        <td>-2.247e-05</td> <td> 1.76e-05</td> <td>   -1.276</td> <td> 0.202</td> <td> -5.7e-05</td> <td>  1.2e-05</td>\n",
       "</tr>\n",
       "<tr>\n",
       "  <th>x6</th>        <td> -6.22e-05</td> <td>    0.000</td> <td>   -0.466</td> <td> 0.641</td> <td>   -0.000</td> <td>    0.000</td>\n",
       "</tr>\n",
       "<tr>\n",
       "  <th>X3_Cat__2</th> <td>    0.1903</td> <td>    0.012</td> <td>   16.536</td> <td> 0.000</td> <td>    0.168</td> <td>    0.213</td>\n",
       "</tr>\n",
       "<tr>\n",
       "  <th>X3_Cat__3</th> <td>    0.2685</td> <td>    0.010</td> <td>   25.833</td> <td> 0.000</td> <td>    0.248</td> <td>    0.289</td>\n",
       "</tr>\n",
       "<tr>\n",
       "  <th>X3_Cat__4</th> <td>    0.4507</td> <td>    0.010</td> <td>   43.931</td> <td> 0.000</td> <td>    0.431</td> <td>    0.471</td>\n",
       "</tr>\n",
       "<tr>\n",
       "  <th>X5_Cat__2</th> <td>   -0.0652</td> <td>    0.010</td> <td>   -6.519</td> <td> 0.000</td> <td>   -0.085</td> <td>   -0.046</td>\n",
       "</tr>\n",
       "<tr>\n",
       "  <th>X5_Cat__3</th> <td>   -0.1352</td> <td>    0.010</td> <td>  -13.635</td> <td> 0.000</td> <td>   -0.155</td> <td>   -0.116</td>\n",
       "</tr>\n",
       "<tr>\n",
       "  <th>X5_Cat__4</th> <td>   -0.1624</td> <td>    0.012</td> <td>  -13.106</td> <td> 0.000</td> <td>   -0.187</td> <td>   -0.138</td>\n",
       "</tr>\n",
       "</table>"
      ],
      "text/plain": [
       "<class 'statsmodels.iolib.summary.Summary'>\n",
       "\"\"\"\n",
       "        Logit Marginal Effects       \n",
       "=====================================\n",
       "Dep. Variable:                      y\n",
       "Method:                          dydx\n",
       "At:                           overall\n",
       "==============================================================================\n",
       "                dy/dx    std err          z      P>|z|      [0.025      0.975]\n",
       "------------------------------------------------------------------------------\n",
       "x1             0.1207      0.007     16.203      0.000       0.106       0.135\n",
       "x2          1.219e-07   1.77e-06      0.069      0.945   -3.35e-06    3.59e-06\n",
       "x4         -2.247e-05   1.76e-05     -1.276      0.202    -5.7e-05     1.2e-05\n",
       "x6          -6.22e-05      0.000     -0.466      0.641      -0.000       0.000\n",
       "X3_Cat__2      0.1903      0.012     16.536      0.000       0.168       0.213\n",
       "X3_Cat__3      0.2685      0.010     25.833      0.000       0.248       0.289\n",
       "X3_Cat__4      0.4507      0.010     43.931      0.000       0.431       0.471\n",
       "X5_Cat__2     -0.0652      0.010     -6.519      0.000      -0.085      -0.046\n",
       "X5_Cat__3     -0.1352      0.010    -13.635      0.000      -0.155      -0.116\n",
       "X5_Cat__4     -0.1624      0.012    -13.106      0.000      -0.187      -0.138\n",
       "==============================================================================\n",
       "\"\"\""
      ]
     },
     "execution_count": 21,
     "metadata": {},
     "output_type": "execute_result"
    }
   ],
   "source": [
    "# Building a Model using categorical X3 and X5 variables and checking accuracy.\n",
    "\n",
    "df2=df1.copy()\n",
    "df2=pd.get_dummies(df2, columns=['X3_Cat'], prefix = ['X3_Cat_'])\n",
    "df2 = pd.get_dummies(df2, columns=['X5_Cat'], prefix = ['X5_Cat_'])\n",
    "df2.head()\n",
    "X=df2.loc[:, df2.columns != \"y\"]\n",
    "y=df2.loc[:, df2.columns == \"y\"]\n",
    "# Split the data into training and testing sets. We will use 60% for training and 40% for Testing.\n",
    "X_train, X_test, y_train, y_test = train_test_split(X, y, test_size=0.4, random_state=0)\n",
    "X_train=sm.add_constant(X_train)\n",
    "X_test=sm.add_constant(X_test)\n",
    "cols2_cat=['const', 'x1', 'x2', 'x4','x6','X3_Cat__2','X3_Cat__3','X3_Cat__4','X5_Cat__2','X5_Cat__3','X5_Cat__4']\n",
    "model2_cat = sm.Logit(y_train, X_train[cols2_cat])\n",
    "result_cat = model2_cat.fit()\n",
    "print(result_cat.params)\n",
    "\n",
    "## Get Probability of Default PD\n",
    "predictions_prob=result_cat.predict(X_train[cols2_cat])\n",
    "\n",
    "## Get Class labels 0,1 \n",
    "X_predictions=(result_cat.predict(X_train[cols2_cat]) >= 0.5).astype(int)\n",
    "y_predictions=(result_cat.predict(X_test[cols2_cat]) >= 0.5).astype(int)\n",
    "print(result_cat.pred_table())\n",
    "print(result_cat.summary())\n",
    "\n",
    "### Train Set\n",
    "print(classification_report(y_train, X_predictions))\n",
    "\n",
    "### Test Set\n",
    "print(classification_report(y_test, y_predictions))\n",
    "AME=result_cat.get_margeff(at='overall',method='dydx')\n",
    "AME.summary()"
   ]
  },
  {
   "cell_type": "markdown",
   "metadata": {},
   "source": [
    "\n",
    "------------------------------------------------------------------------------------------------------------------------------------\n",
    "\n",
    "### Review:\n",
    "\n",
    "The outputs from using **Categorical** **X3** and **X5** in the model are pretty similar to using **Numerical** values of **X3** and **X5**.\n",
    "The model accuracy hasnt changed significantly and thus categorical inputs have no significant advantage over using numeric values for these variables.\n",
    "For ease of use and implementation, We can stick to our original data fields and build a model using numeric data.\n",
    "\n",
    "------------------------------------------------------------------------------------------------------------------------------------\n"
   ]
  },
  {
   "cell_type": "markdown",
   "metadata": {},
   "source": [
    "## Feature Selection\n",
    "\n",
    "Two methods which can help in selecting the best features for our model:\n",
    "1. Recursive Feature Elimination.\n",
    "2. Feature importance from Random Forest."
   ]
  },
  {
   "cell_type": "code",
   "execution_count": 22,
   "metadata": {},
   "outputs": [
    {
     "name": "stderr",
     "output_type": "stream",
     "text": [
      "/opt/anaconda3/lib/python3.7/site-packages/sklearn/utils/validation.py:760: DataConversionWarning: A column-vector y was passed when a 1d array was expected. Please change the shape of y to (n_samples, ), for example using ravel().\n",
      "  y = column_or_1d(y, warn=True)\n"
     ]
    },
    {
     "name": "stdout",
     "output_type": "stream",
     "text": [
      "['const', 'x1', 'x2', 'x3', 'x4', 'x5', 'x6']\n",
      "[ True  True False  True False False False]\n",
      "[1 1 5 1 4 2 3]\n"
     ]
    },
    {
     "data": {
      "text/html": [
       "<div>\n",
       "<style scoped>\n",
       "    .dataframe tbody tr th:only-of-type {\n",
       "        vertical-align: middle;\n",
       "    }\n",
       "\n",
       "    .dataframe tbody tr th {\n",
       "        vertical-align: top;\n",
       "    }\n",
       "\n",
       "    .dataframe thead th {\n",
       "        text-align: right;\n",
       "    }\n",
       "</style>\n",
       "<table border=\"1\" class=\"dataframe\">\n",
       "  <thead>\n",
       "    <tr style=\"text-align: right;\">\n",
       "      <th></th>\n",
       "      <th>Predictors</th>\n",
       "      <th>RFE_Support</th>\n",
       "      <th>RFE_Rank</th>\n",
       "    </tr>\n",
       "  </thead>\n",
       "  <tbody>\n",
       "    <tr>\n",
       "      <td>0</td>\n",
       "      <td>const</td>\n",
       "      <td>True</td>\n",
       "      <td>1</td>\n",
       "    </tr>\n",
       "    <tr>\n",
       "      <td>1</td>\n",
       "      <td>x1</td>\n",
       "      <td>True</td>\n",
       "      <td>1</td>\n",
       "    </tr>\n",
       "    <tr>\n",
       "      <td>2</td>\n",
       "      <td>x2</td>\n",
       "      <td>False</td>\n",
       "      <td>5</td>\n",
       "    </tr>\n",
       "    <tr>\n",
       "      <td>3</td>\n",
       "      <td>x3</td>\n",
       "      <td>True</td>\n",
       "      <td>1</td>\n",
       "    </tr>\n",
       "    <tr>\n",
       "      <td>4</td>\n",
       "      <td>x4</td>\n",
       "      <td>False</td>\n",
       "      <td>4</td>\n",
       "    </tr>\n",
       "    <tr>\n",
       "      <td>5</td>\n",
       "      <td>x5</td>\n",
       "      <td>False</td>\n",
       "      <td>2</td>\n",
       "    </tr>\n",
       "    <tr>\n",
       "      <td>6</td>\n",
       "      <td>x6</td>\n",
       "      <td>False</td>\n",
       "      <td>3</td>\n",
       "    </tr>\n",
       "  </tbody>\n",
       "</table>\n",
       "</div>"
      ],
      "text/plain": [
       "  Predictors  RFE_Support  RFE_Rank\n",
       "0      const         True         1\n",
       "1         x1         True         1\n",
       "2         x2        False         5\n",
       "3         x3         True         1\n",
       "4         x4        False         4\n",
       "5         x5        False         2\n",
       "6         x6        False         3"
      ]
     },
     "execution_count": 22,
     "metadata": {},
     "output_type": "execute_result"
    }
   ],
   "source": [
    "## Recursive Feature Elimination - Selecting top predictors.\n",
    "\n",
    "logreg = LogisticRegression()\n",
    "rfe = RFE(logreg, 3)\n",
    "rfe = rfe.fit(X_train[cols1], y_train)\n",
    "print(cols1)\n",
    "print(rfe.support_)\n",
    "print(rfe.ranking_)\n",
    "\n",
    "pd.DataFrame({'Predictors':np.array(cols1), 'RFE_Support':rfe.support_,'RFE_Rank':rfe.ranking_})\n"
   ]
  },
  {
   "cell_type": "markdown",
   "metadata": {},
   "source": [
    "### Review:\n",
    "\n",
    "RFE results selectes X1, X3 and X5 as the best 3 feature model for our classification."
   ]
  },
  {
   "cell_type": "code",
   "execution_count": 23,
   "metadata": {
    "scrolled": true
   },
   "outputs": [
    {
     "name": "stderr",
     "output_type": "stream",
     "text": [
      "/opt/anaconda3/lib/python3.7/site-packages/ipykernel_launcher.py:10: DataConversionWarning: A column-vector y was passed when a 1d array was expected. Please change the shape of y to (n_samples,), for example using ravel().\n",
      "  # Remove the CWD from sys.path while we load stuff.\n",
      "No handles with labels found to put in legend.\n"
     ]
    },
    {
     "name": "stdout",
     "output_type": "stream",
     "text": [
      "x3    0.235169\n",
      "x5    0.196423\n",
      "x2    0.196021\n",
      "x4    0.187650\n",
      "x6    0.165695\n",
      "x1    0.019043\n",
      "dtype: float64\n"
     ]
    },
    {
     "data": {
      "image/png": "[encoded data removed]",
      "text/plain": [
       "<Figure size 432x288 with 1 Axes>"
      ]
     },
     "metadata": {
      "needs_background": "light"
     },
     "output_type": "display_data"
    }
   ],
   "source": [
    "## Random Forest for Feature Importance - Help us in feature selection.\n",
    "\n",
    "X_rf=loan_application.loc[:, loan_application.columns != \"y\"]\n",
    "y_rf=loan_application.loc[:, loan_application.columns == \"y\"]\n",
    "# Split dataset into training set and test set\n",
    "X_train_rf, X_test_rf, y_train_rf, y_test_rf = train_test_split(X_rf, y_rf, test_size=0.3) # 70% training and 30% test\n",
    "#Create a Gaussian Classifier\n",
    "clf=RandomForestClassifier(n_estimators=100,bootstrap=True,max_features='sqrt')\n",
    "#Train the model using the training sets y_pred=clf.predict(X_test)\n",
    "clf.fit(X_train_rf,y_train_rf)\n",
    "y_pred=clf.predict(X_test_rf)\n",
    "## Feature Importance\n",
    "feature_imp = pd.Series(clf.feature_importances_,index=['x1', 'x2', 'x3', 'x4', 'x5', 'x6']).sort_values(ascending=False)\n",
    "print(feature_imp)\n",
    "\n",
    "%matplotlib inline\n",
    "# Creating a bar plot\n",
    "sb.barplot(x=feature_imp, y=feature_imp.index)\n",
    "# Add labels to your graph\n",
    "plt.xlabel('Feature Importance Score')\n",
    "plt.ylabel('Features')\n",
    "plt.title(\"Visualizing Important Features\")\n",
    "plt.legend()\n",
    "plt.show()\n",
    "\n"
   ]
  },
  {
   "cell_type": "markdown",
   "metadata": {},
   "source": [
    "### Review:\n",
    "\n",
    "Variables X3 and X5 have the highest Variable Importances as seen from the Random Forest Model.\n",
    "This is an interesting finding as both our feature selection models outputs variables X3 and X5 as the top predictors.\n",
    "Since Variable X1 was significant in our first model, We can try to build a smaller and more accurate model using just 3 variables.\n"
   ]
  },
  {
   "cell_type": "markdown",
   "metadata": {},
   "source": [
    "------------------------------------------------------------------------------------------------------------------------------------\n",
    "# Final Model\n",
    "\n",
    "\n",
    "- From Our Visual analysis and information obtained from Feature selection approaches above; we can use 3 variables in our final Model -- X1, X3 and X5.\n",
    "\n",
    "------------------------------------------------------------------------------------------------------------------------------------"
   ]
  },
  {
   "cell_type": "code",
   "execution_count": 25,
   "metadata": {
    "scrolled": false
   },
   "outputs": [
    {
     "name": "stdout",
     "output_type": "stream",
     "text": [
      "Optimization terminated successfully.\n",
      "         Current function value: 0.623383\n",
      "         Iterations 5\n",
      "Coefficient Values- Log-Odds \n",
      " x1    0.550929\n",
      "x3    0.038821\n",
      "x5   -0.003217\n",
      "dtype: float64\n",
      "-----------------------------------------------------\n",
      "ODDS Ratio \n",
      " x1    1.734864\n",
      "x3    1.039584\n",
      "x5    0.996788\n",
      "dtype: float64\n",
      "-----------------------------------------------------\n",
      "[[4656. 2802.]\n",
      " [2726. 4816.]]\n",
      "-----------------------------------------------------\n",
      "                           Logit Regression Results                           \n",
      "==============================================================================\n",
      "Dep. Variable:                      y   No. Observations:                15000\n",
      "Model:                          Logit   Df Residuals:                    14997\n",
      "Method:                           MLE   Df Model:                            2\n",
      "Date:                Mon, 14 Dec 2020   Pseudo R-squ.:                  0.1006\n",
      "Time:                        15:02:37   Log-Likelihood:                -9350.7\n",
      "converged:                       True   LL-Null:                       -10397.\n",
      "Covariance Type:            nonrobust   LLR p-value:                     0.000\n",
      "==============================================================================\n",
      "                 coef    std err          z      P>|z|      [0.025      0.975]\n",
      "------------------------------------------------------------------------------\n",
      "x1             0.5509      0.035     15.753      0.000       0.482       0.619\n",
      "x3             0.0388      0.001     40.023      0.000       0.037       0.041\n",
      "x5            -0.0032   7.98e-05    -40.302      0.000      -0.003      -0.003\n",
      "==============================================================================\n",
      "-----------------------------------------------------\n",
      "              precision    recall  f1-score   support\n",
      "\n",
      "           0       0.63      0.62      0.63      7458\n",
      "           1       0.63      0.64      0.64      7542\n",
      "\n",
      "    accuracy                           0.63     15000\n",
      "   macro avg       0.63      0.63      0.63     15000\n",
      "weighted avg       0.63      0.63      0.63     15000\n",
      "\n",
      "-----------------------------------------------------\n",
      "              precision    recall  f1-score   support\n",
      "\n",
      "           0       0.63      0.63      0.63      5040\n",
      "           1       0.63      0.63      0.63      4960\n",
      "\n",
      "    accuracy                           0.63     10000\n",
      "   macro avg       0.63      0.63      0.63     10000\n",
      "weighted avg       0.63      0.63      0.63     10000\n",
      "\n",
      "-------- Train Set Confusion Matrix -----------\n"
     ]
    },
    {
     "data": {
      "image/png": "[encoded data removed]",
      "text/plain": [
       "<Figure size 576x576 with 1 Axes>"
      ]
     },
     "metadata": {
      "needs_background": "light"
     },
     "output_type": "display_data"
    },
    {
     "name": "stdout",
     "output_type": "stream",
     "text": [
      "-------- Test Set Confusion Matrix -----------\n"
     ]
    },
    {
     "data": {
      "image/png": "[encoded data removed]",
      "text/plain": [
       "<Figure size 576x576 with 1 Axes>"
      ]
     },
     "metadata": {
      "needs_background": "light"
     },
     "output_type": "display_data"
    }
   ],
   "source": [
    "## Final Model after feature selection using above approaches- - Model with X1,x3,x5\n",
    "\n",
    "X=loan_application.loc[:, loan_application.columns != \"y\"]\n",
    "y=loan_application.loc[:, loan_application.columns == \"y\"]\n",
    "# Split the data into training and testing sets. We will use 60% for training and 40% for Testing.\n",
    "X_train, X_test, y_train, y_test = train_test_split(X, y, test_size=0.4, random_state=0)\n",
    "X_train=sm.add_constant(X_train)\n",
    "X_test=sm.add_constant(X_test)\n",
    "model2 = sm.Logit(y_train, X_train[[\"x1\",\"x3\",\"x5\"]])\n",
    "result_final = model2.fit()\n",
    "print(\"Coefficient Values- Log-Odds \\n\",result_final.params)\n",
    "\n",
    "print(\"-----------------------------------------------------\")\n",
    "\n",
    "print(\"ODDS Ratio \\n\",np.exp(result_final.params))\n",
    "\n",
    "print(\"-----------------------------------------------------\")\n",
    "\n",
    "predictions_X_train=result_final.predict(X_train[[\"x1\",\"x3\",\"x5\"]])\n",
    "predictions_X_test=result_final.predict(X_test[[\"x1\",\"x3\",\"x5\"]])\n",
    "\n",
    "X_predictions=(result_final.predict(X_train[[\"x1\",\"x3\",\"x5\"]]) >= 0.5).astype(int)\n",
    "y_predictions=(result_final.predict(X_test[[\"x1\",\"x3\",\"x5\"]]) >= 0.5).astype(int)\n",
    "\n",
    "\n",
    "print(result_final.pred_table())\n",
    "print(\"-----------------------------------------------------\")\n",
    "\n",
    "print(result_final.summary())\n",
    "print(\"-----------------------------------------------------\")\n",
    "\n",
    "### Train Set\n",
    "print(classification_report(y_train, X_predictions))\n",
    "\n",
    "print(\"-----------------------------------------------------\")\n",
    "\n",
    "### Test Set\n",
    "print(classification_report(y_test, y_predictions))\n",
    "\n",
    "\n",
    "\n",
    "print(\"-------- Train Set Confusion Matrix -----------\")\n",
    "### Confusion Matrix Plot\n",
    "cm = confusion_matrix(y_train, X_predictions)\n",
    "fig, ax = plt.subplots(figsize=(8, 8))\n",
    "ax.imshow(cm)\n",
    "ax.grid(False)\n",
    "ax.xaxis.set(ticks=(0, 1), ticklabels=('Predicted 0s', 'Predicted 1s'))\n",
    "ax.yaxis.set(ticks=(0, 1), ticklabels=('Actual 0s', 'Actual 1s'))\n",
    "ax.set_ylim(1.5, -0.5)\n",
    "for i in range(2):\n",
    "    for j in range(2):\n",
    "        ax.text(j, i, cm[i, j], ha='center', va='center', color='Green',size=20)\n",
    "plt.show()\n",
    "\n",
    "\n",
    "print(\"-------- Test Set Confusion Matrix -----------\")\n",
    "### Confusion Matrix Plot\n",
    "cm = confusion_matrix(y_test, y_predictions)\n",
    "fig, ax = plt.subplots(figsize=(8, 8))\n",
    "ax.imshow(cm)\n",
    "ax.grid(False)\n",
    "ax.xaxis.set(ticks=(0, 1), ticklabels=('Predicted 0s', 'Predicted 1s'))\n",
    "ax.yaxis.set(ticks=(0, 1), ticklabels=('Actual 0s', 'Actual 1s'))\n",
    "ax.set_ylim(1.5, -0.5)\n",
    "for i in range(2):\n",
    "    for j in range(2):\n",
    "        ax.text(j, i, cm[i, j], ha='center', va='center', color='Green',size=20)\n",
    "plt.show()\n"
   ]
  },
  {
   "cell_type": "markdown",
   "metadata": {},
   "source": [
    "**Coefficients:**\n",
    "\n",
    "Interpretation: Each unit increase in variable increases/decreases the log oddds of PD by coefficient's Value.\n",
    "- x1    0.550929\n",
    "- x3    0.038821\n",
    "- x5   -0.003217\n",
    "\n",
    "Inference:\n",
    "- We would Expect 0.550929 Increase in the log-Odds of a Default(y=1) if X1 increases by 1 unit.\n",
    "- We would Expect 0.038821 Increase in the log-Odds of a Default(y=1) if X3 increases by 1 unit.\n",
    "- We would Expect -0.003217 Increase in the log-Odds of a Default(y=1) if X5 increases by 1 unit.\n",
    "\n",
    "The estimated coefficients are the log odds. A better way to interpret the coefficients is by exponentiating the value to obtain ODDs ratio.\n",
    "\n",
    "**ODDS Ratio** \n",
    "- x1    1.734864\n",
    "- x3    1.039584\n",
    "- x5    0.996788\n",
    "\n",
    "X1 and X3 are above 1. This means that they have a positive relationship with the Output Variable.\n",
    "X5 has a negative relationship with the Output Variable.\n",
    "\n",
    "Inference:\n",
    "\n",
    "- We would Expect 73% Increase in the Odds of a Default(y=1) if X1 increases by 1 unit.\n",
    "- We would Expect 3.9% Increase in the Odds of a Default(y=1) if X3 increases by 1 unit.\n",
    "- We would Expect 0.32% Decrease in the Odds of a Default(y=1) if X5 increases by 1 unit.\n",
    "\n",
    "\n"
   ]
  },
  {
   "cell_type": "code",
   "execution_count": 26,
   "metadata": {},
   "outputs": [
    {
     "name": "stderr",
     "output_type": "stream",
     "text": [
      "[Parallel(n_jobs=-1)]: Using backend LokyBackend with 8 concurrent workers.\n"
     ]
    },
    {
     "name": "stdout",
     "output_type": "stream",
     "text": [
      "[0.63866667 0.63066667 0.63       0.642      0.64266667 0.62666667\n",
      " 0.62       0.61533333 0.636      0.634     ]\n",
      "Mean CV Score =  0.6315999999999999\n"
     ]
    },
    {
     "name": "stderr",
     "output_type": "stream",
     "text": [
      "[Parallel(n_jobs=-1)]: Done   6 out of  10 | elapsed:    1.8s remaining:    1.2s\n",
      "[Parallel(n_jobs=-1)]: Done  10 out of  10 | elapsed:    1.8s finished\n"
     ]
    }
   ],
   "source": [
    "cv_score = cross_val_score(LogisticRegression(), \n",
    "                            X_train[[\"x1\",\"x3\",\"x5\"]], y_train,\n",
    "                            scoring = 'accuracy',\n",
    "                            cv = 10,\n",
    "                            n_jobs = -1,\n",
    "                            verbose = 1)\n",
    "print(cv_score)\n",
    "print(\"Mean CV Score = \",cv_score.mean())\n"
   ]
  },
  {
   "cell_type": "code",
   "execution_count": 27,
   "metadata": {},
   "outputs": [
    {
     "name": "stdout",
     "output_type": "stream",
     "text": [
      "Index(['x1', 'x3', 'x5'], dtype='object')\n",
      "Total number of parameters: 3 \n",
      "Number of Significant Parameters: 3\n"
     ]
    },
    {
     "data": {
      "text/plain": [
       "x1    1.734864\n",
       "x3    1.039584\n",
       "x5    0.996788\n",
       "Name: odds_ratio, dtype: float64"
      ]
     },
     "execution_count": 27,
     "metadata": {},
     "output_type": "execute_result"
    }
   ],
   "source": [
    "# Fetching the statistics\n",
    "stat_df=pd.DataFrame({'coefficients':result_final.params, 'p-value': result_final.pvalues, 'odds_ratio': np.exp(result_final.params)})\n",
    "# Condition for significant parameters\n",
    "significant_params=stat_df[stat_df['p-value']<=0.05].index\n",
    "#significant_params= significant_params.drop('const')\n",
    "print(significant_params)\n",
    "\n",
    "print('Total number of parameters: %s '%len(X_train[[\"x1\",\"x3\",\"x5\"]].keys()) )\n",
    "print('Number of Significant Parameters: %s'%(len(significant_params)))\n",
    "stat_df.loc[significant_params].sort_values('odds_ratio', ascending=False)['odds_ratio']"
   ]
  },
  {
   "cell_type": "code",
   "execution_count": 28,
   "metadata": {},
   "outputs": [
    {
     "data": {
      "text/html": [
       "<table class=\"simpletable\">\n",
       "<caption>Logit Marginal Effects</caption>\n",
       "<tr>\n",
       "  <th>Dep. Variable:</th>    <td>y</td>   \n",
       "</tr>\n",
       "<tr>\n",
       "  <th>Method:</th>         <td>dydx</td>  \n",
       "</tr>\n",
       "<tr>\n",
       "  <th>At:</th>            <td>overall</td>\n",
       "</tr>\n",
       "</table>\n",
       "<table class=\"simpletable\">\n",
       "<tr>\n",
       "   <th></th>     <th>dy/dx</th>    <th>std err</th>      <th>z</th>      <th>P>|z|</th>  <th>[0.025</th>    <th>0.975]</th>  \n",
       "</tr>\n",
       "<tr>\n",
       "  <th>x1</th> <td>    0.1195</td> <td>    0.007</td> <td>   16.240</td> <td> 0.000</td> <td>    0.105</td> <td>    0.134</td>\n",
       "</tr>\n",
       "<tr>\n",
       "  <th>x3</th> <td>    0.0084</td> <td>    0.000</td> <td>   51.336</td> <td> 0.000</td> <td>    0.008</td> <td>    0.009</td>\n",
       "</tr>\n",
       "<tr>\n",
       "  <th>x5</th> <td>   -0.0007</td> <td> 1.34e-05</td> <td>  -51.858</td> <td> 0.000</td> <td>   -0.001</td> <td>   -0.001</td>\n",
       "</tr>\n",
       "</table>"
      ],
      "text/plain": [
       "<class 'statsmodels.iolib.summary.Summary'>\n",
       "\"\"\"\n",
       "        Logit Marginal Effects       \n",
       "=====================================\n",
       "Dep. Variable:                      y\n",
       "Method:                          dydx\n",
       "At:                           overall\n",
       "==============================================================================\n",
       "                dy/dx    std err          z      P>|z|      [0.025      0.975]\n",
       "------------------------------------------------------------------------------\n",
       "x1             0.1195      0.007     16.240      0.000       0.105       0.134\n",
       "x3             0.0084      0.000     51.336      0.000       0.008       0.009\n",
       "x5            -0.0007   1.34e-05    -51.858      0.000      -0.001      -0.001\n",
       "==============================================================================\n",
       "\"\"\""
      ]
     },
     "execution_count": 28,
     "metadata": {},
     "output_type": "execute_result"
    }
   ],
   "source": [
    "AME=result_final.get_margeff(at='overall',method='dydx')\n",
    "AME.summary()"
   ]
  },
  {
   "cell_type": "markdown",
   "metadata": {},
   "source": [
    "**AVERAGE MARGINAL EFFECTS**\n",
    "\n",
    "The interpretation of Average Marginal Effects is similar to linear models. \n",
    "1. AME  - X1 - 0.1195 - unit increase in X1 increases Probability of default by 11.95% \n",
    "2. AME  - X3 - 0.1195 - unit increase in X3 increases Probability of default by 0.84% \n",
    "3. AME  - X5 - -0.0007 - unit increase in X5 decreases Probability of default by 0.07% "
   ]
  },
  {
   "cell_type": "markdown",
   "metadata": {},
   "source": [
    "## Model accuracy and Goodness of FIT - ROC Curve"
   ]
  },
  {
   "cell_type": "code",
   "execution_count": 29,
   "metadata": {},
   "outputs": [
    {
     "name": "stdout",
     "output_type": "stream",
     "text": [
      "Accuracy: 0.6314666666666666\n",
      "Accuracy: 0.6307\n"
     ]
    }
   ],
   "source": [
    "# Model Accuracy, how often is the classifier correct?\n",
    "print(\"Accuracy:\",metrics.accuracy_score(y_train, X_predictions))\n",
    "print(\"Accuracy:\",metrics.accuracy_score(y_test, y_predictions))\n"
   ]
  },
  {
   "cell_type": "code",
   "execution_count": 30,
   "metadata": {
    "scrolled": true
   },
   "outputs": [
    {
     "name": "stdout",
     "output_type": "stream",
     "text": [
      "Training_ROC_AUC_score= 0.7028976873159185\n",
      "Testing_ROC_AUC_score= 0.7060680083525346\n"
     ]
    }
   ],
   "source": [
    "## ROC AUC Score\n",
    "roc_value_train=roc_auc_score(y_train, predictions_X_train)\n",
    "roc_value_test=roc_auc_score(y_test, predictions_X_test)\n",
    "print(\"Training_ROC_AUC_score=\",roc_value_train)\n",
    "print(\"Testing_ROC_AUC_score=\",roc_value_test)"
   ]
  },
  {
   "cell_type": "markdown",
   "metadata": {},
   "source": [
    "## MODEL FIT AND ACCURACY.\n",
    "\n",
    "Training and Test accuracy are at 63% which is acceptable for our Binary classification Problem.\n",
    "\n",
    "The Model fits the Data well in Training and Testing sets with a AUC value of 70%.\n",
    "\n",
    "Our model has good robustness in prediction accuracy as seen from the 10-Fold Cross-Validation results above.\n",
    "\n",
    "The mean CV Score is 0.6315999999999999\n",
    "\n",
    "\n",
    "This helps us in being confident in implementing our Model for New data and would work well. \n",
    "We can say our model predicts 63% of the time accurate results and can be confident in implementing our model."
   ]
  },
  {
   "cell_type": "code",
   "execution_count": 31,
   "metadata": {
    "scrolled": true
   },
   "outputs": [
    {
     "name": "stderr",
     "output_type": "stream",
     "text": [
      "No handles with labels found to put in legend.\n"
     ]
    },
    {
     "data": {
      "image/png": "[encoded data removed]",
      "text/plain": [
       "<Figure size 576x576 with 1 Axes>"
      ]
     },
     "metadata": {
      "needs_background": "light"
     },
     "output_type": "display_data"
    },
    {
     "name": "stderr",
     "output_type": "stream",
     "text": [
      "No handles with labels found to put in legend.\n"
     ]
    },
    {
     "data": {
      "image/png": "[encoded data removed]",
      "text/plain": [
       "<Figure size 576x576 with 1 Axes>"
      ]
     },
     "metadata": {
      "needs_background": "light"
     },
     "output_type": "display_data"
    }
   ],
   "source": [
    "## ROC Curve for Test Set. -- Out of Sample Accuracy.\n",
    "fpr, tpr, thresholds = roc_curve(y_train, predictions_X_train)\n",
    "# To get roc stats in df\n",
    "roc_df=pd.DataFrame({'thresholds': thresholds,'tpr':tpr,'fpr':fpr})\n",
    "\n",
    "# Plotting the ROC curve\n",
    "plt.figure(figsize=(8,8))\n",
    "plt.plot(fpr, tpr,marker=\"o\")\n",
    "plt.plot([0,1],[0,1])\n",
    "plt.xlim(0,1)\n",
    "plt.ylim(0,1.05)\n",
    "plt.xlabel(\"False Positive Rate\")\n",
    "plt.ylabel(\"True Positive rate\")\n",
    "plt.title(\"Receiver Operatinng Characteristics - Train Data\")\n",
    "plt.legend(loc=\"lower right\")\n",
    "plt.show()\n",
    "\n",
    "## ROC Curve for Test Set. -- Out of Sample Accuracy.\n",
    "fpr, tpr, thresholds = roc_curve(y_test, predictions_X_test)\n",
    "# To get roc stats in df\n",
    "roc_df=pd.DataFrame({'thresholds': thresholds,'tpr':tpr,'fpr':fpr})\n",
    "\n",
    "# Plotting the ROC curve\n",
    "plt.figure(figsize=(8,8))\n",
    "plt.plot(fpr, tpr,marker=\"o\")\n",
    "plt.plot([0,1],[0,1])\n",
    "plt.xlim(0,1)\n",
    "plt.ylim(0,1.05)\n",
    "plt.xlabel(\"False Positive Rate\")\n",
    "plt.ylabel(\"True Positive rate\")\n",
    "plt.title(\"Receiver Operatinng Characteristics - Test Data\")\n",
    "plt.legend(loc=\"lower right\")\n",
    "plt.show()\n"
   ]
  },
  {
   "cell_type": "markdown",
   "metadata": {},
   "source": [
    "## OUTPUT RESULTS TO CSV"
   ]
  },
  {
   "cell_type": "code",
   "execution_count": 32,
   "metadata": {},
   "outputs": [],
   "source": [
    "\n",
    "X_train[\"PD\"]=predictions_X_train\n",
    "X_train[\"Default\"]=X_predictions\n",
    "X_test[\"PD\"]=predictions_X_test\n",
    "X_test[\"Default\"]=y_predictions\n"
   ]
  },
  {
   "cell_type": "code",
   "execution_count": 33,
   "metadata": {},
   "outputs": [],
   "source": [
    "Train_data=pd.concat([X_train,y_train],axis=1)\n",
    "Test_data=pd.concat([X_test,y_test],axis=1)"
   ]
  },
  {
   "cell_type": "code",
   "execution_count": 34,
   "metadata": {},
   "outputs": [],
   "source": [
    "Output_df=pd.concat([Train_data,Test_data],axis=0).sort_index()\n"
   ]
  },
  {
   "cell_type": "code",
   "execution_count": 35,
   "metadata": {
    "scrolled": true
   },
   "outputs": [
    {
     "data": {
      "text/html": [
       "<div>\n",
       "<style scoped>\n",
       "    .dataframe tbody tr th:only-of-type {\n",
       "        vertical-align: middle;\n",
       "    }\n",
       "\n",
       "    .dataframe tbody tr th {\n",
       "        vertical-align: top;\n",
       "    }\n",
       "\n",
       "    .dataframe thead th {\n",
       "        text-align: right;\n",
       "    }\n",
       "</style>\n",
       "<table border=\"1\" class=\"dataframe\">\n",
       "  <thead>\n",
       "    <tr style=\"text-align: right;\">\n",
       "      <th></th>\n",
       "      <th>const</th>\n",
       "      <th>x1</th>\n",
       "      <th>x2</th>\n",
       "      <th>x3</th>\n",
       "      <th>x4</th>\n",
       "      <th>x5</th>\n",
       "      <th>x6</th>\n",
       "      <th>PD</th>\n",
       "      <th>Default</th>\n",
       "      <th>y</th>\n",
       "    </tr>\n",
       "  </thead>\n",
       "  <tbody>\n",
       "    <tr>\n",
       "      <td>0</td>\n",
       "      <td>1.0</td>\n",
       "      <td>0</td>\n",
       "      <td>2508</td>\n",
       "      <td>54</td>\n",
       "      <td>231</td>\n",
       "      <td>745</td>\n",
       "      <td>2</td>\n",
       "      <td>0.425523</td>\n",
       "      <td>0</td>\n",
       "      <td>1</td>\n",
       "    </tr>\n",
       "    <tr>\n",
       "      <td>1</td>\n",
       "      <td>1.0</td>\n",
       "      <td>1</td>\n",
       "      <td>1854</td>\n",
       "      <td>61</td>\n",
       "      <td>504</td>\n",
       "      <td>746</td>\n",
       "      <td>79</td>\n",
       "      <td>0.626989</td>\n",
       "      <td>1</td>\n",
       "      <td>1</td>\n",
       "    </tr>\n",
       "    <tr>\n",
       "      <td>2</td>\n",
       "      <td>1.0</td>\n",
       "      <td>0</td>\n",
       "      <td>3038</td>\n",
       "      <td>39</td>\n",
       "      <td>126</td>\n",
       "      <td>610</td>\n",
       "      <td>81</td>\n",
       "      <td>0.389790</td>\n",
       "      <td>0</td>\n",
       "      <td>1</td>\n",
       "    </tr>\n",
       "    <tr>\n",
       "      <td>3</td>\n",
       "      <td>1.0</td>\n",
       "      <td>0</td>\n",
       "      <td>6889</td>\n",
       "      <td>25</td>\n",
       "      <td>719</td>\n",
       "      <td>693</td>\n",
       "      <td>68</td>\n",
       "      <td>0.221202</td>\n",
       "      <td>0</td>\n",
       "      <td>0</td>\n",
       "    </tr>\n",
       "    <tr>\n",
       "      <td>4</td>\n",
       "      <td>1.0</td>\n",
       "      <td>1</td>\n",
       "      <td>5785</td>\n",
       "      <td>72</td>\n",
       "      <td>189</td>\n",
       "      <td>805</td>\n",
       "      <td>27</td>\n",
       "      <td>0.680607</td>\n",
       "      <td>1</td>\n",
       "      <td>1</td>\n",
       "    </tr>\n",
       "    <tr>\n",
       "      <td>...</td>\n",
       "      <td>...</td>\n",
       "      <td>...</td>\n",
       "      <td>...</td>\n",
       "      <td>...</td>\n",
       "      <td>...</td>\n",
       "      <td>...</td>\n",
       "      <td>...</td>\n",
       "      <td>...</td>\n",
       "      <td>...</td>\n",
       "      <td>...</td>\n",
       "    </tr>\n",
       "    <tr>\n",
       "      <td>24995</td>\n",
       "      <td>1.0</td>\n",
       "      <td>1</td>\n",
       "      <td>7929</td>\n",
       "      <td>45</td>\n",
       "      <td>123</td>\n",
       "      <td>548</td>\n",
       "      <td>95</td>\n",
       "      <td>0.630671</td>\n",
       "      <td>1</td>\n",
       "      <td>0</td>\n",
       "    </tr>\n",
       "    <tr>\n",
       "      <td>24996</td>\n",
       "      <td>1.0</td>\n",
       "      <td>0</td>\n",
       "      <td>5428</td>\n",
       "      <td>38</td>\n",
       "      <td>269</td>\n",
       "      <td>566</td>\n",
       "      <td>92</td>\n",
       "      <td>0.414479</td>\n",
       "      <td>0</td>\n",
       "      <td>0</td>\n",
       "    </tr>\n",
       "    <tr>\n",
       "      <td>24997</td>\n",
       "      <td>1.0</td>\n",
       "      <td>1</td>\n",
       "      <td>3051</td>\n",
       "      <td>21</td>\n",
       "      <td>839</td>\n",
       "      <td>600</td>\n",
       "      <td>11</td>\n",
       "      <td>0.362652</td>\n",
       "      <td>0</td>\n",
       "      <td>0</td>\n",
       "    </tr>\n",
       "    <tr>\n",
       "      <td>24998</td>\n",
       "      <td>1.0</td>\n",
       "      <td>0</td>\n",
       "      <td>2917</td>\n",
       "      <td>64</td>\n",
       "      <td>169</td>\n",
       "      <td>526</td>\n",
       "      <td>26</td>\n",
       "      <td>0.688375</td>\n",
       "      <td>1</td>\n",
       "      <td>0</td>\n",
       "    </tr>\n",
       "    <tr>\n",
       "      <td>24999</td>\n",
       "      <td>1.0</td>\n",
       "      <td>0</td>\n",
       "      <td>5673</td>\n",
       "      <td>76</td>\n",
       "      <td>192</td>\n",
       "      <td>516</td>\n",
       "      <td>8</td>\n",
       "      <td>0.784241</td>\n",
       "      <td>1</td>\n",
       "      <td>1</td>\n",
       "    </tr>\n",
       "  </tbody>\n",
       "</table>\n",
       "<p>25000 rows × 10 columns</p>\n",
       "</div>"
      ],
      "text/plain": [
       "       const  x1    x2  x3   x4   x5  x6        PD  Default  y\n",
       "0        1.0   0  2508  54  231  745   2  0.425523        0  1\n",
       "1        1.0   1  1854  61  504  746  79  0.626989        1  1\n",
       "2        1.0   0  3038  39  126  610  81  0.389790        0  1\n",
       "3        1.0   0  6889  25  719  693  68  0.221202        0  0\n",
       "4        1.0   1  5785  72  189  805  27  0.680607        1  1\n",
       "...      ...  ..   ...  ..  ...  ...  ..       ...      ... ..\n",
       "24995    1.0   1  7929  45  123  548  95  0.630671        1  0\n",
       "24996    1.0   0  5428  38  269  566  92  0.414479        0  0\n",
       "24997    1.0   1  3051  21  839  600  11  0.362652        0  0\n",
       "24998    1.0   0  2917  64  169  526  26  0.688375        1  0\n",
       "24999    1.0   0  5673  76  192  516   8  0.784241        1  1\n",
       "\n",
       "[25000 rows x 10 columns]"
      ]
     },
     "execution_count": 35,
     "metadata": {},
     "output_type": "execute_result"
    }
   ],
   "source": [
    "Output_df"
   ]
  },
  {
   "cell_type": "code",
   "execution_count": 36,
   "metadata": {},
   "outputs": [],
   "source": [
    "Output_df.to_csv(\"Result_PD.csv\")"
   ]
  },
  {
   "cell_type": "code",
   "execution_count": null,
   "metadata": {},
   "outputs": [],
   "source": []
  },
  {
   "cell_type": "code",
   "execution_count": null,
   "metadata": {},
   "outputs": [],
   "source": []
  },
  {
   "cell_type": "code",
   "execution_count": null,
   "metadata": {},
   "outputs": [],
   "source": []
  },
  {
   "cell_type": "code",
   "execution_count": null,
   "metadata": {},
   "outputs": [],
   "source": []
  },
  {
   "cell_type": "code",
   "execution_count": null,
   "metadata": {},
   "outputs": [],
   "source": []
  },
  {
   "cell_type": "code",
   "execution_count": null,
   "metadata": {},
   "outputs": [],
   "source": []
  }
 ],
 "metadata": {
  "kernelspec": {
   "display_name": "Python 3",
   "language": "python",
   "name": "python3"
  },
  "language_info": {
   "codemirror_mode": {
    "name": "ipython",
    "version": 3
   },
   "file_extension": ".py",
   "mimetype": "text/x-python",
   "name": "python",
   "nbconvert_exporter": "python",
   "pygments_lexer": "ipython3",
   "version": "3.7.4"
  }
 },
 "nbformat": 4,
 "nbformat_minor": 2
}
