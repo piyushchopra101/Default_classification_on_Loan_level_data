{
 "cells": [
  {
   "attachments": {},
   "cell_type": "markdown",
   "metadata": {},
   "source": [
    "# =============================================================================\n",
    "# TCF BANK -  Interview Test.\n",
    "## Outline:\n",
    "You have been approached by the consumer lending department to help them automate their underwriting process. As part of the exercise, they have gathered loan-level performance data indicating whether or not a given credit defaulted. Propose a model-based solution for the department.\n",
    "\n",
    "## Objectives: \n",
    "###### 1.How well should the department expect your model to identify defaults?\n",
    "###### 2.How confident are you the model will work well in implementation (new data)?\n",
    "###### 3.Briefly explain the effect of each variable in your final model on credit risk.\n",
    "###### 4.Please provide the probabilities of default (probability of class = 1) in a csv file as a new column labeled PD.\n",
    "\n",
    "\n",
    "# =============================================================================\n"
   ]
  },
  {
   "cell_type": "markdown",
   "metadata": {},
   "source": [
    "# Notebook Flow\n",
    "1. Import Libraries\n",
    "2. Data cleaning and initial checks - Missing Values, Null Values\n",
    "3. Trying out new features - \n",
    "4. Visualization - Countplots, Boxplots, Histogram\n",
    "5. Check for Correlation, Multicollinearity, VIF Score\n",
    "6. Build Initial Model.\n",
    "7. Feature Selection.\n",
    "8. Build Final Model.\n",
    "9. Test Results and Accuracy\n",
    "10. Goodness of fit.\n",
    "\n"
   ]
  },
  {
   "cell_type": "code",
   "execution_count": 111,
   "metadata": {},
   "outputs": [],
   "source": [
    "## Import Python Packages.\n",
    "import pandas as pd\n",
    "import numpy as np\n",
    "import seaborn as sb\n",
    "import matplotlib.pyplot as plt\n",
    "from pylab import rcParams\n",
    "\n",
    "sb.set(style=\"white\")\n",
    "sb.set(style=\"whitegrid\",color_codes=True)\n",
    "pd.set_option('display.max_columns', 500)\n",
    "%matplotlib inline\n",
    "\n",
    "## Scikit Learn Packages\n",
    "from sklearn import preprocessing\n",
    "from sklearn.linear_model import LogisticRegression\n",
    "from sklearn.model_selection import train_test_split\n",
    "from sklearn.metrics import accuracy_score\n",
    "from sklearn.model_selection import cross_val_score, GridSearchCV\n",
    "from sklearn.tree import DecisionTreeClassifier\n",
    "from sklearn.ensemble import RandomForestClassifier\n",
    "from sklearn.feature_selection import RFE\n",
    "from sklearn.preprocessing import StandardScaler\n",
    "#Logistic Regression Model Fitting\n",
    "from sklearn import metrics\n",
    "from sklearn.metrics import classification_report, confusion_matrix\n",
    "from sklearn.preprocessing import StandardScaler\n",
    "from statsmodels.stats.outliers_influence import variance_inflation_factor\n",
    "### ROC Curve\n",
    "from sklearn.metrics import roc_auc_score\n",
    "from sklearn.metrics import roc_curve\n",
    "\n",
    "import statsmodels.api as sm\n",
    "from statsmodels.formula.api import logit\n"
   ]
  },
  {
   "cell_type": "markdown",
   "metadata": {},
   "source": [
    "Import data from CSV file into a Pandas Dataframe for analysis"
   ]
  },
  {
   "cell_type": "code",
   "execution_count": 3,
   "metadata": {
    "scrolled": true
   },
   "outputs": [
    {
     "data": {
      "text/html": [
       "<div>\n",
       "<style scoped>\n",
       "    .dataframe tbody tr th:only-of-type {\n",
       "        vertical-align: middle;\n",
       "    }\n",
       "\n",
       "    .dataframe tbody tr th {\n",
       "        vertical-align: top;\n",
       "    }\n",
       "\n",
       "    .dataframe thead th {\n",
       "        text-align: right;\n",
       "    }\n",
       "</style>\n",
       "<table border=\"1\" class=\"dataframe\">\n",
       "  <thead>\n",
       "    <tr style=\"text-align: right;\">\n",
       "      <th></th>\n",
       "      <th>y</th>\n",
       "      <th>x1</th>\n",
       "      <th>x2</th>\n",
       "      <th>x3</th>\n",
       "      <th>x4</th>\n",
       "      <th>x5</th>\n",
       "      <th>x6</th>\n",
       "    </tr>\n",
       "  </thead>\n",
       "  <tbody>\n",
       "    <tr>\n",
       "      <td>0</td>\n",
       "      <td>1</td>\n",
       "      <td>0</td>\n",
       "      <td>2508</td>\n",
       "      <td>54</td>\n",
       "      <td>231</td>\n",
       "      <td>745</td>\n",
       "      <td>2</td>\n",
       "    </tr>\n",
       "    <tr>\n",
       "      <td>1</td>\n",
       "      <td>1</td>\n",
       "      <td>1</td>\n",
       "      <td>1854</td>\n",
       "      <td>61</td>\n",
       "      <td>504</td>\n",
       "      <td>746</td>\n",
       "      <td>79</td>\n",
       "    </tr>\n",
       "    <tr>\n",
       "      <td>2</td>\n",
       "      <td>1</td>\n",
       "      <td>0</td>\n",
       "      <td>3038</td>\n",
       "      <td>39</td>\n",
       "      <td>126</td>\n",
       "      <td>610</td>\n",
       "      <td>81</td>\n",
       "    </tr>\n",
       "    <tr>\n",
       "      <td>3</td>\n",
       "      <td>0</td>\n",
       "      <td>0</td>\n",
       "      <td>6889</td>\n",
       "      <td>25</td>\n",
       "      <td>719</td>\n",
       "      <td>693</td>\n",
       "      <td>68</td>\n",
       "    </tr>\n",
       "    <tr>\n",
       "      <td>4</td>\n",
       "      <td>1</td>\n",
       "      <td>1</td>\n",
       "      <td>5785</td>\n",
       "      <td>72</td>\n",
       "      <td>189</td>\n",
       "      <td>805</td>\n",
       "      <td>27</td>\n",
       "    </tr>\n",
       "  </tbody>\n",
       "</table>\n",
       "</div>"
      ],
      "text/plain": [
       "   y  x1    x2  x3   x4   x5  x6\n",
       "0  1   0  2508  54  231  745   2\n",
       "1  1   1  1854  61  504  746  79\n",
       "2  1   0  3038  39  126  610  81\n",
       "3  0   0  6889  25  719  693  68\n",
       "4  1   1  5785  72  189  805  27"
      ]
     },
     "execution_count": 3,
     "metadata": {},
     "output_type": "execute_result"
    }
   ],
   "source": [
    "# =============================================================================\n",
    "# Data\n",
    "# =============================================================================\n",
    "\n",
    "loan_application=pd.read_csv(r'/Users/PiyushChopra/Desktop/TCF Bank/interview-exercise/loan_application.csv',usecols = ['y','x1','x2','x3','x4','x5','x6'])\n",
    "loan_application.head()\n",
    "\n"
   ]
  },
  {
   "cell_type": "code",
   "execution_count": 84,
   "metadata": {
    "scrolled": true
   },
   "outputs": [
    {
     "name": "stdout",
     "output_type": "stream",
     "text": [
      "<class 'pandas.core.frame.DataFrame'>\n",
      "RangeIndex: 25000 entries, 0 to 24999\n",
      "Data columns (total 7 columns):\n",
      "y     25000 non-null int64\n",
      "x1    25000 non-null int64\n",
      "x2    25000 non-null int64\n",
      "x3    25000 non-null int64\n",
      "x4    25000 non-null int64\n",
      "x5    25000 non-null int64\n",
      "x6    25000 non-null int64\n",
      "dtypes: int64(7)\n",
      "memory usage: 1.3 MB\n",
      "None\n",
      "-----------------------------------\n",
      "y     int64\n",
      "x1    int64\n",
      "x2    int64\n",
      "x3    int64\n",
      "x4    int64\n",
      "x5    int64\n",
      "x6    int64\n",
      "dtype: object\n"
     ]
    }
   ],
   "source": [
    "# Check for Missing Values \n",
    "print(loan_application.info())\n",
    "print(\"-----------------------------------\")\n",
    "print(loan_application.dtypes)"
   ]
  },
  {
   "cell_type": "markdown",
   "metadata": {},
   "source": [
    "\n",
    "The data has No missing values Across all features. \n",
    " -- This is a good sign. Majority of our the task in data cleaning is eliminated.\n",
    " All of our data are numeric. This is good for Model Building. Many python libraries work with numeric data and hence its required to convert categorical inputs to numeric/dummy variables using either one-hot encoding or generating dummies.\n",
    "\n"
   ]
  },
  {
   "cell_type": "code",
   "execution_count": 6,
   "metadata": {
    "scrolled": true
   },
   "outputs": [
    {
     "name": "stdout",
     "output_type": "stream",
     "text": [
      "                 y            x1            x2           x3            x4  \\\n",
      "count  25000.00000  25000.000000  25000.000000  25000.00000  25000.000000   \n",
      "mean       0.50008      0.495400   4760.323720     49.05284    472.786800   \n",
      "std        0.50001      0.499989   2156.991931     18.01695    217.319245   \n",
      "min        0.00000      0.000000   1000.000000     18.00000    100.000000   \n",
      "25%        0.00000      0.000000   2886.000000     33.00000    284.000000   \n",
      "50%        1.00000      0.000000   4776.000000     49.00000    471.000000   \n",
      "75%        1.00000      1.000000   6621.000000     65.00000    663.000000   \n",
      "max        1.00000      1.000000   8499.000000     80.00000    850.000000   \n",
      "\n",
      "                 x5            x6  \n",
      "count  25000.000000  25000.000000  \n",
      "mean     674.515880     50.475720  \n",
      "std      100.559481     28.570961  \n",
      "min      500.000000      1.000000  \n",
      "25%      588.000000     26.000000  \n",
      "50%      675.000000     50.000000  \n",
      "75%      761.000000     75.000000  \n",
      "max      850.000000    100.000000  \n",
      "y     0\n",
      "x1    0\n",
      "x2    0\n",
      "x3    0\n",
      "x4    0\n",
      "x5    0\n",
      "x6    0\n",
      "dtype: int64\n",
      "y     False\n",
      "x1    False\n",
      "x2    False\n",
      "x3    False\n",
      "x4    False\n",
      "x5    False\n",
      "x6    False\n",
      "dtype: bool\n"
     ]
    }
   ],
   "source": [
    "## Get a High Level Summary of the Data Set.\n",
    "\n",
    "print(loan_application.describe())\n",
    "print(loan_application.isna().sum())\n",
    "print(loan_application.isna().any())\n",
    "# Y  - Categorical - 2 levels - 0,1\n",
    "# X1 - Categorical - 2 levels - 0,1\n",
    "# X2 - Ranges from[1000,8499]\n",
    "# X3 - Ranges from[18,80] \n",
    "# X4 - Ranges from[100,850]\n",
    "# X5 - Ranges from[500,850]\n",
    "# X6 - Ranges from[1,100]\n",
    "\n",
    "\n",
    "\n",
    "### Some potential Approximations on feature vectors.\n",
    "##  Since its a loan-level performance data its safe to assume that \"Age-group\" and a persons \"Credit Rating\" are amongst some of the most useful choices \n",
    "##  to determine loan eligility and also present good variables to determine defaults.\n",
    "\n",
    "## From our dataset -- We can try to get some sense of the variables.\n",
    "## Variable X3 can be a persons age looking at the range\n",
    "## Variable X5 can be a persons credit score as it usually ranges between 500-850\n",
    "## We can try to convert these into categorical inputs for intuitive results."
   ]
  },
  {
   "cell_type": "markdown",
   "metadata": {},
   "source": [
    "Lets understand our data better. Below is a high level information on all the variables in our dataset.\n",
    "1. Y  - Categorical - 2 levels - 0,1\n",
    "2. X1 - Categorical - 2 levels - 0,1\n",
    "3. X2 - Ranges from [1000,8499]\n",
    "4. X3 - Ranges from [18,80] \n",
    "5. X4 - Ranges from [100,850]\n",
    "6. X5 - Ranges from [500,850]\n",
    "7. X6 - Ranges from [1,100]\n",
    "\n",
    "\n",
    "\n",
    "##Some potential Approximations on feature vectors.\n",
    "Since its a loan-level performance data its safe to assume that \"Age-group\" and a persons \"Credit Rating\" are amongst some of the most useful choices to determine loan eligility and also present good variables to determine defaults.\n",
    "\n",
    "From our dataset -- We can try to get some sense of the variables.\n",
    "Variable X3 can be a persons age looking at the range.\n",
    "Variable X5 can be a persons credit score as it usually ranges between 500-850. \n",
    "We can try to convert these into categorical inputs and see the distribution of defaults across various categories."
   ]
  },
  {
   "cell_type": "code",
   "execution_count": 85,
   "metadata": {},
   "outputs": [],
   "source": [
    "## First Lets make a copy of original Dataset\n",
    "df1=loan_application.copy()"
   ]
  },
  {
   "cell_type": "markdown",
   "metadata": {},
   "source": [
    "We can look at correlation histogram to determine correlation between our output \"Y\" variable\n",
    "and Predictors . This would also be useful to identify potential cases of possible multicollinearity between the predictors"
   ]
  },
  {
   "cell_type": "code",
   "execution_count": 88,
   "metadata": {
    "scrolled": true
   },
   "outputs": [
    {
     "data": {
      "text/plain": [
       "<Figure size 1080x1080 with 0 Axes>"
      ]
     },
     "metadata": {},
     "output_type": "display_data"
    },
    {
     "data": {
      "image/png": "[encoded data removed]",
      "text/plain": [
       "<Figure size 504x360 with 2 Axes>"
      ]
     },
     "metadata": {},
     "output_type": "display_data"
    }
   ],
   "source": [
    "## We can look at correlation across variables to determine correlation between our output \"Y\" variable\n",
    "## and Predictors and look for possible multicollinearity between the predictors\n",
    "corr_df=df1.corr().round(2)\n",
    "max_corr = 0.4\n",
    "plt.figure(figsize=(15,15))\n",
    "mask = np.zeros_like(corr_df)\n",
    "mask[np.triu_indices_from(mask)] = True\n",
    "with sb.axes_style(\"white\"):\n",
    "    f, ax = plt.subplots(figsize=(7, 5))\n",
    "    ax = sb.heatmap(corr_df, mask=mask,vmax=max_corr, square=True, annot=True, cmap=\"YlGnBu\")\n",
    " \n",
    "## From the correlation heatmap, we see that Varibles X1,X3 and X5 have some correlation with the Output \"Y\" variable.\n",
    "## Correlation within the Predictors are almost 0 hence we dont have to worry about potential multicollinearity issues. \n"
   ]
  },
  {
   "cell_type": "markdown",
   "metadata": {},
   "source": [
    "From the correlation heatmap, we see that Varibles X1,X3 and X5 have some correlation with the Output \"Y\" variable.\n",
    "Correlation within the Predictors are almost 0 hence we dont have to worry about potential multicollinearity issues. \n"
   ]
  },
  {
   "cell_type": "markdown",
   "metadata": {},
   "source": [
    "Lets Check for Variance Inflation Factors to see which variables can be well explained by other independant variables.\n",
    "A higher VIF Score is problematic and the corresponding variable might need more attention while using it in the model.\n"
   ]
  },
  {
   "cell_type": "code",
   "execution_count": 9,
   "metadata": {},
   "outputs": [
    {
     "data": {
      "text/html": [
       "<div>\n",
       "<style scoped>\n",
       "    .dataframe tbody tr th:only-of-type {\n",
       "        vertical-align: middle;\n",
       "    }\n",
       "\n",
       "    .dataframe tbody tr th {\n",
       "        vertical-align: top;\n",
       "    }\n",
       "\n",
       "    .dataframe thead th {\n",
       "        text-align: right;\n",
       "    }\n",
       "</style>\n",
       "<table border=\"1\" class=\"dataframe\">\n",
       "  <thead>\n",
       "    <tr style=\"text-align: right;\">\n",
       "      <th></th>\n",
       "      <th>variables</th>\n",
       "      <th>VIF_Score</th>\n",
       "    </tr>\n",
       "  </thead>\n",
       "  <tbody>\n",
       "    <tr>\n",
       "      <td>0</td>\n",
       "      <td>x2</td>\n",
       "      <td>5.442342</td>\n",
       "    </tr>\n",
       "    <tr>\n",
       "      <td>1</td>\n",
       "      <td>x3</td>\n",
       "      <td>7.457182</td>\n",
       "    </tr>\n",
       "    <tr>\n",
       "      <td>2</td>\n",
       "      <td>x4</td>\n",
       "      <td>5.314744</td>\n",
       "    </tr>\n",
       "    <tr>\n",
       "      <td>3</td>\n",
       "      <td>x5</td>\n",
       "      <td>14.658673</td>\n",
       "    </tr>\n",
       "    <tr>\n",
       "      <td>4</td>\n",
       "      <td>x6</td>\n",
       "      <td>3.934864</td>\n",
       "    </tr>\n",
       "  </tbody>\n",
       "</table>\n",
       "</div>"
      ],
      "text/plain": [
       "  variables  VIF_Score\n",
       "0        x2   5.442342\n",
       "1        x3   7.457182\n",
       "2        x4   5.314744\n",
       "3        x5  14.658673\n",
       "4        x6   3.934864"
      ]
     },
     "execution_count": 9,
     "metadata": {},
     "output_type": "execute_result"
    }
   ],
   "source": [
    "## Lets Check for Variance Inflation Factors to see which variables can be well explained by other independant variables.\n",
    "## A higher VIF Score is problematic and the corresponding variable might need more attention while using it in the model.\n",
    "\n",
    "def calculate_vif(input_df):\n",
    "  Var_Inf_frame = pd.DataFrame()\n",
    "  Var_Inf_frame[\"variables\"] = input_df.columns\n",
    "  Var_Inf_frame[\"VIF_Score\"] = [variance_inflation_factor(input_df.values, i) for i in  range(input_df.shape[1])]\n",
    "  return(Var_Inf_frame)\n",
    "\n",
    "X1 = df1.drop(columns=[\"y\",\"x1\"])\n",
    "calculate_vif(X1)\n",
    "b\n",
    "## From the VIF table, Variable X5 has very high VIF score and needs further attention going forward."
   ]
  },
  {
   "cell_type": "markdown",
   "metadata": {},
   "source": [
    "From the VIF table, Variable X5 has very high VIF score and needs further attention while using it in our model."
   ]
  },
  {
   "cell_type": "code",
   "execution_count": 89,
   "metadata": {
    "scrolled": true
   },
   "outputs": [
    {
     "data": {
      "text/html": [
       "<div>\n",
       "<style scoped>\n",
       "    .dataframe tbody tr th:only-of-type {\n",
       "        vertical-align: middle;\n",
       "    }\n",
       "\n",
       "    .dataframe tbody tr th {\n",
       "        vertical-align: top;\n",
       "    }\n",
       "\n",
       "    .dataframe thead th {\n",
       "        text-align: right;\n",
       "    }\n",
       "</style>\n",
       "<table border=\"1\" class=\"dataframe\">\n",
       "  <thead>\n",
       "    <tr style=\"text-align: right;\">\n",
       "      <th></th>\n",
       "      <th>y</th>\n",
       "      <th>x1</th>\n",
       "      <th>x2</th>\n",
       "      <th>x3</th>\n",
       "      <th>x4</th>\n",
       "      <th>x5</th>\n",
       "      <th>x6</th>\n",
       "      <th>Age_Range</th>\n",
       "      <th>Credit_score_Range</th>\n",
       "    </tr>\n",
       "  </thead>\n",
       "  <tbody>\n",
       "    <tr>\n",
       "      <td>0</td>\n",
       "      <td>1</td>\n",
       "      <td>0</td>\n",
       "      <td>2508</td>\n",
       "      <td>54</td>\n",
       "      <td>231</td>\n",
       "      <td>745</td>\n",
       "      <td>2</td>\n",
       "      <td>3</td>\n",
       "      <td>3</td>\n",
       "    </tr>\n",
       "    <tr>\n",
       "      <td>1</td>\n",
       "      <td>1</td>\n",
       "      <td>1</td>\n",
       "      <td>1854</td>\n",
       "      <td>61</td>\n",
       "      <td>504</td>\n",
       "      <td>746</td>\n",
       "      <td>79</td>\n",
       "      <td>3</td>\n",
       "      <td>3</td>\n",
       "    </tr>\n",
       "    <tr>\n",
       "      <td>2</td>\n",
       "      <td>1</td>\n",
       "      <td>0</td>\n",
       "      <td>3038</td>\n",
       "      <td>39</td>\n",
       "      <td>126</td>\n",
       "      <td>610</td>\n",
       "      <td>81</td>\n",
       "      <td>2</td>\n",
       "      <td>2</td>\n",
       "    </tr>\n",
       "    <tr>\n",
       "      <td>3</td>\n",
       "      <td>0</td>\n",
       "      <td>0</td>\n",
       "      <td>6889</td>\n",
       "      <td>25</td>\n",
       "      <td>719</td>\n",
       "      <td>693</td>\n",
       "      <td>68</td>\n",
       "      <td>1</td>\n",
       "      <td>2</td>\n",
       "    </tr>\n",
       "    <tr>\n",
       "      <td>4</td>\n",
       "      <td>1</td>\n",
       "      <td>1</td>\n",
       "      <td>5785</td>\n",
       "      <td>72</td>\n",
       "      <td>189</td>\n",
       "      <td>805</td>\n",
       "      <td>27</td>\n",
       "      <td>4</td>\n",
       "      <td>4</td>\n",
       "    </tr>\n",
       "    <tr>\n",
       "      <td>...</td>\n",
       "      <td>...</td>\n",
       "      <td>...</td>\n",
       "      <td>...</td>\n",
       "      <td>...</td>\n",
       "      <td>...</td>\n",
       "      <td>...</td>\n",
       "      <td>...</td>\n",
       "      <td>...</td>\n",
       "      <td>...</td>\n",
       "    </tr>\n",
       "    <tr>\n",
       "      <td>24995</td>\n",
       "      <td>0</td>\n",
       "      <td>1</td>\n",
       "      <td>7929</td>\n",
       "      <td>45</td>\n",
       "      <td>123</td>\n",
       "      <td>548</td>\n",
       "      <td>95</td>\n",
       "      <td>2</td>\n",
       "      <td>1</td>\n",
       "    </tr>\n",
       "    <tr>\n",
       "      <td>24996</td>\n",
       "      <td>0</td>\n",
       "      <td>0</td>\n",
       "      <td>5428</td>\n",
       "      <td>38</td>\n",
       "      <td>269</td>\n",
       "      <td>566</td>\n",
       "      <td>92</td>\n",
       "      <td>2</td>\n",
       "      <td>1</td>\n",
       "    </tr>\n",
       "    <tr>\n",
       "      <td>24997</td>\n",
       "      <td>0</td>\n",
       "      <td>1</td>\n",
       "      <td>3051</td>\n",
       "      <td>21</td>\n",
       "      <td>839</td>\n",
       "      <td>600</td>\n",
       "      <td>11</td>\n",
       "      <td>1</td>\n",
       "      <td>1</td>\n",
       "    </tr>\n",
       "    <tr>\n",
       "      <td>24998</td>\n",
       "      <td>0</td>\n",
       "      <td>0</td>\n",
       "      <td>2917</td>\n",
       "      <td>64</td>\n",
       "      <td>169</td>\n",
       "      <td>526</td>\n",
       "      <td>26</td>\n",
       "      <td>3</td>\n",
       "      <td>1</td>\n",
       "    </tr>\n",
       "    <tr>\n",
       "      <td>24999</td>\n",
       "      <td>1</td>\n",
       "      <td>0</td>\n",
       "      <td>5673</td>\n",
       "      <td>76</td>\n",
       "      <td>192</td>\n",
       "      <td>516</td>\n",
       "      <td>8</td>\n",
       "      <td>4</td>\n",
       "      <td>1</td>\n",
       "    </tr>\n",
       "  </tbody>\n",
       "</table>\n",
       "<p>25000 rows × 9 columns</p>\n",
       "</div>"
      ],
      "text/plain": [
       "       y  x1    x2  x3   x4   x5  x6  Age_Range  Credit_score_Range\n",
       "0      1   0  2508  54  231  745   2          3                   3\n",
       "1      1   1  1854  61  504  746  79          3                   3\n",
       "2      1   0  3038  39  126  610  81          2                   2\n",
       "3      0   0  6889  25  719  693  68          1                   2\n",
       "4      1   1  5785  72  189  805  27          4                   4\n",
       "...   ..  ..   ...  ..  ...  ...  ..        ...                 ...\n",
       "24995  0   1  7929  45  123  548  95          2                   1\n",
       "24996  0   0  5428  38  269  566  92          2                   1\n",
       "24997  0   1  3051  21  839  600  11          1                   1\n",
       "24998  0   0  2917  64  169  526  26          3                   1\n",
       "24999  1   0  5673  76  192  516   8          4                   1\n",
       "\n",
       "[25000 rows x 9 columns]"
      ]
     },
     "execution_count": 89,
     "metadata": {},
     "output_type": "execute_result"
    }
   ],
   "source": [
    "## Converting Variable X3 as Categories\n",
    "age_bins = [17,30,45,65,85]\n",
    "age_categories = ['1', '2', '3', '4']\n",
    "df1['Age_Range'] = pd.cut(df1['x3'], age_bins, labels=age_categories).astype(int)\n",
    "\n",
    "## Converting Variable X5 as Categories\n",
    "Credit_score_bins = [450,600,700,800,np.inf]\n",
    "Credit_score_categories = ['1', '2', '3', '4']\n",
    "df1['Credit_score_Range'] = pd.cut(df1['x5'], Credit_score_bins, labels=Credit_score_categories).astype(int)\n",
    "\n",
    "df1"
   ]
  },
  {
   "cell_type": "code",
   "execution_count": 90,
   "metadata": {
    "scrolled": true
   },
   "outputs": [
    {
     "name": "stdout",
     "output_type": "stream",
     "text": [
      "Y = 1    12502\n",
      "0    12498\n",
      "Name: y, dtype: int64\n",
      "-----------------------------------\n",
      "0    12615\n",
      "1    12385\n",
      "Name: x1, dtype: int64\n",
      "-----------------------------------\n",
      "3    8072\n",
      "4    5909\n",
      "2    5894\n",
      "1    5125\n",
      "Name: Age_Range, dtype: int64\n",
      "-----------------------------------\n",
      "3    7206\n",
      "1    7183\n",
      "2    7169\n",
      "4    3442\n",
      "Name: Credit_score_Range, dtype: int64\n",
      "-----------------------------------\n"
     ]
    }
   ],
   "source": [
    "## Lets Visualize our data with Boxplots/Histogram\n",
    "\n",
    "print(\"Y =\",df1['y'].value_counts())\n",
    "print(\"-----------------------------------\")\n",
    "\n",
    "print(df1['x1'].value_counts())\n",
    "print(\"-----------------------------------\")\n",
    "\n",
    "print(df1['Age_Range'].value_counts())\n",
    "print(\"-----------------------------------\")\n",
    "\n",
    "print(df1['Credit_score_Range'].value_counts())\n",
    "print(\"-----------------------------------\")\n",
    "\n",
    "## Output Variable \"Y\" and Predictor \"X1\" are balanced classes with similar obervations across both categories\n",
    "## This is very helpful as we dont have sparse data or have to deal with class imbalance. Often, working with imbalance classes (More obersations in one category as opposed to others)\n",
    "## have a Significant impact in pulling the results towards the more frequent class and thus leads to Bias in our results. \n",
    "## Fortunately, we dont have to perform sampling adjustments to our dataset."
   ]
  },
  {
   "cell_type": "markdown",
   "metadata": {},
   "source": [
    "Output Variable \"Y\" and Predictor \"X1\" are balanced classes with similar obervations across both categories\n",
    "This is very helpful as we dont have sparse data or have to deal with class imbalance. Often, working with imbalance classes (More obersations in one category as opposed to others)\n",
    "have a Significant impact in pulling the results towards the more frequent class and thus leads to Bias in our results. \n",
    "Fortunately, we dont have to perform sampling adjustments to our dataset.\n",
    "\n"
   ]
  },
  {
   "cell_type": "code",
   "execution_count": 91,
   "metadata": {
    "scrolled": true
   },
   "outputs": [
    {
     "data": {
      "image/png": "[encoded data removed]",
      "text/plain": [
       "<Figure size 432x288 with 1 Axes>"
      ]
     },
     "metadata": {
      "needs_background": "light"
     },
     "output_type": "display_data"
    },
    {
     "data": {
      "image/png": "[encoded data removed]",
      "text/plain": [
       "<Figure size 432x288 with 1 Axes>"
      ]
     },
     "metadata": {
      "needs_background": "light"
     },
     "output_type": "display_data"
    }
   ],
   "source": [
    "## Visualizing data across our New categorical Age-group and Credit Scoring groups.\n",
    "sb.countplot(x='Age_Range',data=df1,palette='hls')\n",
    "plt.show()\n",
    "sb.countplot(x='Credit_score_Range',data=df1,palette='hls')\n",
    "plt.show()\n"
   ]
  },
  {
   "cell_type": "markdown",
   "metadata": {},
   "source": [
    "It seems that there is differences in the categories across these two variables. This may prove useful in helping to predict output variable."
   ]
  },
  {
   "cell_type": "code",
   "execution_count": 13,
   "metadata": {
    "scrolled": true
   },
   "outputs": [
    {
     "data": {
      "text/plain": [
       "Text(0, 0.5, 'Frequency')"
      ]
     },
     "execution_count": 13,
     "metadata": {},
     "output_type": "execute_result"
    },
    {
     "data": {
      "image/png": "[encoded data removed]",
      "text/plain": [
       "<Figure size 432x288 with 1 Axes>"
      ]
     },
     "metadata": {
      "needs_background": "light"
     },
     "output_type": "display_data"
    },
    {
     "data": {
      "image/png": "[encoded data removed]",
      "text/plain": [
       "<Figure size 432x288 with 1 Axes>"
      ]
     },
     "metadata": {
      "needs_background": "light"
     },
     "output_type": "display_data"
    },
    {
     "data": {
      "image/png": "[encoded data removed]",
      "text/plain": [
       "<Figure size 432x288 with 1 Axes>"
      ]
     },
     "metadata": {
      "needs_background": "light"
     },
     "output_type": "display_data"
    }
   ],
   "source": [
    "## Visulizing 2 way plots - Dependant Variable Y with other categorical Predictors - X1, X3, X5\n",
    "pd.crosstab(df1.y,df1.x1).plot(kind='bar')\n",
    "plt.title('Default Frequency Across Predictor: X1')\n",
    "plt.xlabel('Default')\n",
    "plt.ylabel('Frequency')\n",
    "\n",
    "pd.crosstab(df1.y,df1.Age_Range).plot(kind='bar')\n",
    "plt.title('Default Frequency Across Predictor: Age_Range')\n",
    "plt.xlabel('Default')\n",
    "plt.ylabel('Frequency')\n",
    "\n",
    "pd.crosstab(df1.y,df1.Credit_score_Range).plot(kind='bar')\n",
    "plt.title('Default Frequency Across Predictor: Credit_score_Range')\n",
    "plt.xlabel('Default')\n",
    "plt.ylabel('Frequency')"
   ]
  },
  {
   "cell_type": "markdown",
   "metadata": {},
   "source": [
    "Boxplots provide a good visual Representation of our data across the Output Variable and helps us to identify patterns in our data.\n"
   ]
  },
  {
   "cell_type": "code",
   "execution_count": 94,
   "metadata": {
    "scrolled": true
   },
   "outputs": [
    {
     "data": {
      "text/plain": [
       "<matplotlib.axes._subplots.AxesSubplot at 0x7fd54d990350>"
      ]
     },
     "execution_count": 94,
     "metadata": {},
     "output_type": "execute_result"
    },
    {
     "data": {
      "image/png": "[encoded data removed]",
      "text/plain": [
       "<Figure size 1080x1080 with 6 Axes>"
      ]
     },
     "metadata": {
      "needs_background": "light"
     },
     "output_type": "display_data"
    }
   ],
   "source": [
    "## Boxplots provide a good visual Representation of our data across the Output Variable and helps us to identify patterns in our data.\n",
    "\n",
    "f, axes = plt.subplots(2,3, figsize=(15, 15), sharex=True)\n",
    "sb.boxplot(x='y', y='x2', data=df1, palette='hls',ax=axes[0, 0])\n",
    "#plt.show()\n",
    "sb.boxplot(x='y', y='x3', data=df1, palette='hls',ax=axes[0, 1])\n",
    "#plt.show()\n",
    "sb.boxplot(x='y', y='x4', data=df1, palette='hls',ax=axes[0, 2])\n",
    "#plt.show()\n",
    "sb.boxplot(x='y', y='x5', data=df1, palette='hls',ax=axes[1, 0])\n",
    "#plt.show()\n",
    "sb.boxplot(x='y', y='x6', data=df1, palette='hls',ax=axes[1, 1])\n",
    "\n",
    "\n",
    "## Variable X3 and X5 show a visible trend across out output variable. \n",
    "# Means across defaulted obligors and Non-defaults are different in variable X3 and X5 suggesting they are potentially good predictors for our Output variable Y.\n"
   ]
  },
  {
   "cell_type": "markdown",
   "metadata": {},
   "source": [
    "Variable X3 and X5 show a visible trend across out output variable. \n",
    "Means across defaulted obligors and Non-defaults are different in variable X3 and X5 suggesting they are potentially good predictors for our Output variable Y.\n"
   ]
  },
  {
   "cell_type": "markdown",
   "metadata": {},
   "source": [
    "Histograms provide a good way to visualise the distribution of our data.\n",
    "Since we are interested in classification, we can look at distribution of each predictor varaible across our Output classes.\n",
    "This helps in identifying underlying patterns which we can explore in our model.\n"
   ]
  },
  {
   "cell_type": "code",
   "execution_count": 95,
   "metadata": {
    "scrolled": true
   },
   "outputs": [
    {
     "data": {
      "image/png": "[encoded data removed]",
      "text/plain": [
       "<Figure size 432x288 with 1 Axes>"
      ]
     },
     "metadata": {
      "needs_background": "light"
     },
     "output_type": "display_data"
    },
    {
     "data": {
      "image/png": "[encoded data removed]",
      "text/plain": [
       "<Figure size 432x288 with 1 Axes>"
      ]
     },
     "metadata": {
      "needs_background": "light"
     },
     "output_type": "display_data"
    },
    {
     "data": {
      "image/png": "[encoded data removed]",
      "text/plain": [
       "<Figure size 432x288 with 1 Axes>"
      ]
     },
     "metadata": {
      "needs_background": "light"
     },
     "output_type": "display_data"
    },
    {
     "data": {
      "image/png": "[encoded data removed]",
      "text/plain": [
       "<Figure size 432x288 with 1 Axes>"
      ]
     },
     "metadata": {
      "needs_background": "light"
     },
     "output_type": "display_data"
    },
    {
     "data": {
      "image/png": "[encoded data removed]",
      "text/plain": [
       "<Figure size 432x288 with 1 Axes>"
      ]
     },
     "metadata": {
      "needs_background": "light"
     },
     "output_type": "display_data"
    }
   ],
   "source": [
    "## Histograms provide a good way to visualise the distribution of our data.\n",
    "## Since we are interested in classification, we can look at distribution of each predictor varaible across our Output classes.\n",
    "## This helps in identifying underlying patterns which we can explore in our model.\n",
    "\n",
    "df1.groupby('y')[\"x2\"].plot.hist(bins=40, alpha=0.5)\n",
    "plt.show()\n",
    "df1.groupby('y')[\"x3\"].plot.hist(bins=40, alpha=0.5)\n",
    "plt.show()\n",
    "df1.groupby('y')[\"x4\"].plot.hist(bins=40, alpha=0.5)\n",
    "plt.show()\n",
    "df1.groupby('y')[\"x5\"].plot.hist(bins=40, alpha=0.5)\n",
    "plt.show()\n",
    "df1.groupby('y')[\"x6\"].plot.hist(bins=40, alpha=0.5)\n",
    "plt.show()"
   ]
  },
  {
   "cell_type": "code",
   "execution_count": 16,
   "metadata": {
    "scrolled": true
   },
   "outputs": [
    {
     "data": {
      "image/png": "[encoded data removed]",
      "text/plain": [
       "<Figure size 432x288 with 2 Axes>"
      ]
     },
     "metadata": {
      "needs_background": "light"
     },
     "output_type": "display_data"
    },
    {
     "data": {
      "image/png": "[encoded data removed]",
      "text/plain": [
       "<Figure size 432x288 with 2 Axes>"
      ]
     },
     "metadata": {
      "needs_background": "light"
     },
     "output_type": "display_data"
    },
    {
     "data": {
      "image/png": "[encoded data removed]",
      "text/plain": [
       "<Figure size 432x288 with 2 Axes>"
      ]
     },
     "metadata": {
      "needs_background": "light"
     },
     "output_type": "display_data"
    },
    {
     "data": {
      "image/png": "[encoded data removed]",
      "text/plain": [
       "<Figure size 432x288 with 2 Axes>"
      ]
     },
     "metadata": {
      "needs_background": "light"
     },
     "output_type": "display_data"
    },
    {
     "data": {
      "image/png": "[encoded data removed]",
      "text/plain": [
       "<Figure size 432x288 with 2 Axes>"
      ]
     },
     "metadata": {
      "needs_background": "light"
     },
     "output_type": "display_data"
    }
   ],
   "source": [
    "df1['x2'].hist(by=df1['y'])\n",
    "plt.show()\n",
    "df1['x3'].hist(by=df1['y'])\n",
    "plt.show()\n",
    "df1['x4'].hist(by=df1['y'])\n",
    "plt.show()\n",
    "\n",
    "df1['x5'].hist(by=df1['y'])\n",
    "plt.show()\n",
    "\n",
    "df1['x6'].hist(by=df1['y'])\n",
    "plt.show()\n"
   ]
  },
  {
   "cell_type": "markdown",
   "metadata": {},
   "source": [
    "# Model Building\n",
    "\n",
    "## Initial Model - Logistic Regression.\n",
    "#### Since its a classification Model, we can try out different modelling approached like Logistic Regression, Random Forest, Support Vector Machines(SVM) and Bayesian Modelling. Looking at simplicity, ease of implementation and interpretability - We will work with Binary Logistic Regression \n"
   ]
  },
  {
   "cell_type": "code",
   "execution_count": 96,
   "metadata": {},
   "outputs": [],
   "source": [
    "df2=df1.copy()\n",
    "df2=pd.get_dummies(df2, columns=['Age_Range'], prefix = ['Age_Range_'])"
   ]
  },
  {
   "cell_type": "code",
   "execution_count": 97,
   "metadata": {},
   "outputs": [],
   "source": [
    "df2 = pd.get_dummies(df2, columns=['Credit_score_Range'], prefix = ['Credit_score_Range_'])\n"
   ]
  },
  {
   "cell_type": "code",
   "execution_count": 98,
   "metadata": {},
   "outputs": [
    {
     "data": {
      "text/html": [
       "<div>\n",
       "<style scoped>\n",
       "    .dataframe tbody tr th:only-of-type {\n",
       "        vertical-align: middle;\n",
       "    }\n",
       "\n",
       "    .dataframe tbody tr th {\n",
       "        vertical-align: top;\n",
       "    }\n",
       "\n",
       "    .dataframe thead th {\n",
       "        text-align: right;\n",
       "    }\n",
       "</style>\n",
       "<table border=\"1\" class=\"dataframe\">\n",
       "  <thead>\n",
       "    <tr style=\"text-align: right;\">\n",
       "      <th></th>\n",
       "      <th>y</th>\n",
       "      <th>x1</th>\n",
       "      <th>x2</th>\n",
       "      <th>x3</th>\n",
       "      <th>x4</th>\n",
       "      <th>x5</th>\n",
       "      <th>x6</th>\n",
       "      <th>Age_Range__1</th>\n",
       "      <th>Age_Range__2</th>\n",
       "      <th>Age_Range__3</th>\n",
       "      <th>Age_Range__4</th>\n",
       "      <th>Credit_score_Range__1</th>\n",
       "      <th>Credit_score_Range__2</th>\n",
       "      <th>Credit_score_Range__3</th>\n",
       "      <th>Credit_score_Range__4</th>\n",
       "    </tr>\n",
       "  </thead>\n",
       "  <tbody>\n",
       "    <tr>\n",
       "      <td>0</td>\n",
       "      <td>1</td>\n",
       "      <td>0</td>\n",
       "      <td>2508</td>\n",
       "      <td>54</td>\n",
       "      <td>231</td>\n",
       "      <td>745</td>\n",
       "      <td>2</td>\n",
       "      <td>0</td>\n",
       "      <td>0</td>\n",
       "      <td>1</td>\n",
       "      <td>0</td>\n",
       "      <td>0</td>\n",
       "      <td>0</td>\n",
       "      <td>1</td>\n",
       "      <td>0</td>\n",
       "    </tr>\n",
       "    <tr>\n",
       "      <td>1</td>\n",
       "      <td>1</td>\n",
       "      <td>1</td>\n",
       "      <td>1854</td>\n",
       "      <td>61</td>\n",
       "      <td>504</td>\n",
       "      <td>746</td>\n",
       "      <td>79</td>\n",
       "      <td>0</td>\n",
       "      <td>0</td>\n",
       "      <td>1</td>\n",
       "      <td>0</td>\n",
       "      <td>0</td>\n",
       "      <td>0</td>\n",
       "      <td>1</td>\n",
       "      <td>0</td>\n",
       "    </tr>\n",
       "    <tr>\n",
       "      <td>2</td>\n",
       "      <td>1</td>\n",
       "      <td>0</td>\n",
       "      <td>3038</td>\n",
       "      <td>39</td>\n",
       "      <td>126</td>\n",
       "      <td>610</td>\n",
       "      <td>81</td>\n",
       "      <td>0</td>\n",
       "      <td>1</td>\n",
       "      <td>0</td>\n",
       "      <td>0</td>\n",
       "      <td>0</td>\n",
       "      <td>1</td>\n",
       "      <td>0</td>\n",
       "      <td>0</td>\n",
       "    </tr>\n",
       "    <tr>\n",
       "      <td>3</td>\n",
       "      <td>0</td>\n",
       "      <td>0</td>\n",
       "      <td>6889</td>\n",
       "      <td>25</td>\n",
       "      <td>719</td>\n",
       "      <td>693</td>\n",
       "      <td>68</td>\n",
       "      <td>1</td>\n",
       "      <td>0</td>\n",
       "      <td>0</td>\n",
       "      <td>0</td>\n",
       "      <td>0</td>\n",
       "      <td>1</td>\n",
       "      <td>0</td>\n",
       "      <td>0</td>\n",
       "    </tr>\n",
       "    <tr>\n",
       "      <td>4</td>\n",
       "      <td>1</td>\n",
       "      <td>1</td>\n",
       "      <td>5785</td>\n",
       "      <td>72</td>\n",
       "      <td>189</td>\n",
       "      <td>805</td>\n",
       "      <td>27</td>\n",
       "      <td>0</td>\n",
       "      <td>0</td>\n",
       "      <td>0</td>\n",
       "      <td>1</td>\n",
       "      <td>0</td>\n",
       "      <td>0</td>\n",
       "      <td>0</td>\n",
       "      <td>1</td>\n",
       "    </tr>\n",
       "  </tbody>\n",
       "</table>\n",
       "</div>"
      ],
      "text/plain": [
       "   y  x1    x2  x3   x4   x5  x6  Age_Range__1  Age_Range__2  Age_Range__3  \\\n",
       "0  1   0  2508  54  231  745   2             0             0             1   \n",
       "1  1   1  1854  61  504  746  79             0             0             1   \n",
       "2  1   0  3038  39  126  610  81             0             1             0   \n",
       "3  0   0  6889  25  719  693  68             1             0             0   \n",
       "4  1   1  5785  72  189  805  27             0             0             0   \n",
       "\n",
       "   Age_Range__4  Credit_score_Range__1  Credit_score_Range__2  \\\n",
       "0             0                      0                      0   \n",
       "1             0                      0                      0   \n",
       "2             0                      0                      1   \n",
       "3             0                      0                      1   \n",
       "4             1                      0                      0   \n",
       "\n",
       "   Credit_score_Range__3  Credit_score_Range__4  \n",
       "0                      1                      0  \n",
       "1                      1                      0  \n",
       "2                      0                      0  \n",
       "3                      0                      0  \n",
       "4                      0                      1  "
      ]
     },
     "execution_count": 98,
     "metadata": {},
     "output_type": "execute_result"
    }
   ],
   "source": [
    "df2.head()"
   ]
  },
  {
   "cell_type": "code",
   "execution_count": 103,
   "metadata": {},
   "outputs": [],
   "source": [
    "## Logistic Regression Data Prep. \n",
    "X=df2.loc[:, df2.columns != \"y\"]\n",
    "y=df2.loc[:, df2.columns == \"y\"]\n",
    "predictor_x_cols=['x1', 'x2', 'x3', 'x4', 'x5', 'x6']"
   ]
  },
  {
   "cell_type": "code",
   "execution_count": 104,
   "metadata": {},
   "outputs": [],
   "source": [
    "# Split the data into training and testing sets. We will use 60% for training and 40% for Testing.\n",
    "X_train, X_test, y_train, y_test = train_test_split(X, y, test_size=0.4, random_state=0)\n"
   ]
  },
  {
   "cell_type": "code",
   "execution_count": 105,
   "metadata": {},
   "outputs": [],
   "source": [
    "## Scaling the data for better model fit.\n",
    "\n",
    "sc_X = StandardScaler()\n",
    "X_train2 = pd.DataFrame(sc_X.fit_transform(X_train))\n",
    "X_test2 = pd.DataFrame(sc_X.transform(X_test))\n",
    "X_train2.columns = X_train.columns.values\n",
    "X_test2.columns = X_test.columns.values\n",
    "X_train2.index = X_train.index.values\n",
    "X_test2.index = X_test.index.values\n",
    "X_train = X_train2\n",
    "X_test = X_test2"
   ]
  },
  {
   "cell_type": "code",
   "execution_count": 106,
   "metadata": {},
   "outputs": [
    {
     "name": "stderr",
     "output_type": "stream",
     "text": [
      "/opt/anaconda3/lib/python3.7/site-packages/numpy/core/fromnumeric.py:2542: FutureWarning: Method .ptp is deprecated and will be removed in a future version. Use numpy.ptp instead.\n",
      "  return ptp(axis=axis, out=out, **kwargs)\n"
     ]
    }
   ],
   "source": [
    "## Add A constant since Logistic regression in statsmodel requires a constant to be specified explicitly.\n",
    "X_train=sm.add_constant(X_train)\n",
    "X_test=sm.add_constant(X_test)\n"
   ]
  },
  {
   "cell_type": "code",
   "execution_count": 107,
   "metadata": {},
   "outputs": [],
   "source": [
    "## Train initial Model on all Variables.\n",
    "cols1=['const', 'x1', 'x2', 'x3', 'x4', 'x5', 'x6']\n",
    "model1 = sm.Logit(y_train, X_train[cols1])\n"
   ]
  },
  {
   "cell_type": "code",
   "execution_count": 108,
   "metadata": {
    "scrolled": true
   },
   "outputs": [
    {
     "name": "stdout",
     "output_type": "stream",
     "text": [
      "Optimization terminated successfully.\n",
      "         Current function value: 0.623230\n",
      "         Iterations 5\n",
      "const    0.011888\n",
      "x1       0.279651\n",
      "x2       0.002065\n",
      "x3       0.709258\n",
      "x4      -0.023118\n",
      "x5      -0.298272\n",
      "x6      -0.005897\n",
      "dtype: float64\n",
      "[[4682. 2776.]\n",
      " [2751. 4791.]]\n",
      "                           Logit Regression Results                           \n",
      "==============================================================================\n",
      "Dep. Variable:                      y   No. Observations:                15000\n",
      "Model:                          Logit   Df Residuals:                    14993\n",
      "Method:                           MLE   Df Model:                            6\n",
      "Date:                Mon, 14 Dec 2020   Pseudo R-squ.:                  0.1008\n",
      "Time:                        03:04:55   Log-Likelihood:                -9348.4\n",
      "converged:                       True   LL-Null:                       -10397.\n",
      "Covariance Type:            nonrobust   LLR p-value:                     0.000\n",
      "==============================================================================\n",
      "                 coef    std err          z      P>|z|      [0.025      0.975]\n",
      "------------------------------------------------------------------------------\n",
      "const          0.0119      0.018      0.678      0.498      -0.022       0.046\n",
      "x1             0.2797      0.018     15.846      0.000       0.245       0.314\n",
      "x2             0.0021      0.018      0.118      0.906      -0.032       0.036\n",
      "x3             0.7093      0.018     38.420      0.000       0.673       0.745\n",
      "x4            -0.0231      0.018     -1.318      0.187      -0.057       0.011\n",
      "x5            -0.2983      0.018    -16.820      0.000      -0.333      -0.264\n",
      "x6            -0.0059      0.018     -0.336      0.737      -0.040       0.029\n",
      "==============================================================================\n",
      "              precision    recall  f1-score   support\n",
      "\n",
      "           0       0.63      0.63      0.63      7458\n",
      "           1       0.63      0.64      0.63      7542\n",
      "\n",
      "    accuracy                           0.63     15000\n",
      "   macro avg       0.63      0.63      0.63     15000\n",
      "weighted avg       0.63      0.63      0.63     15000\n",
      "\n",
      "              precision    recall  f1-score   support\n",
      "\n",
      "           0       0.63      0.64      0.63      5040\n",
      "           1       0.63      0.63      0.63      4960\n",
      "\n",
      "    accuracy                           0.63     10000\n",
      "   macro avg       0.63      0.63      0.63     10000\n",
      "weighted avg       0.63      0.63      0.63     10000\n",
      "\n"
     ]
    }
   ],
   "source": [
    "result = model1.fit()\n",
    "print(result.params)\n",
    "predictions_prob=result.predict(X_train[cols1])\n",
    "\n",
    "X_predictions=(result.predict(X_train[cols1]) >= 0.5).astype(int)\n",
    "y_predictions=(result.predict(X_test[cols1]) >= 0.5).astype(int)\n",
    "print(result.pred_table())\n",
    "print(result.summary())\n",
    "\n",
    "### Train Set\n",
    "print(classification_report(y_train, X_predictions))\n",
    "\n",
    "### Test Set\n",
    "print(classification_report(y_test, y_predictions))"
   ]
  },
  {
   "cell_type": "code",
   "execution_count": 154,
   "metadata": {
    "scrolled": true
   },
   "outputs": [
    {
     "name": "stdout",
     "output_type": "stream",
     "text": [
      "Index(['x1', 'x3', 'x5'], dtype='object')\n",
      "Total number of parameters: 7 \n",
      "Number of Significant Parameters: 3\n",
      "--- Odds Ratio of the predictors in our model ---\n"
     ]
    },
    {
     "data": {
      "text/plain": [
       "x3    2.032483\n",
       "x1    1.322668\n",
       "x5    0.742100\n",
       "Name: odds_ratio, dtype: float64"
      ]
     },
     "execution_count": 154,
     "metadata": {},
     "output_type": "execute_result"
    }
   ],
   "source": [
    "# Fetching the statistics\n",
    "stat_df=pd.DataFrame({'coefficients':result.params, 'p-value': result.pvalues, 'odds_ratio': np.exp(result.params)})\n",
    "# Condition for significant parameters\n",
    "significant_params=stat_df[stat_df['p-value']<=0.05].index\n",
    "#significant_params= significant_params.drop('const')\n",
    "print(significant_params)\n",
    "\n",
    "print('Total number of parameters: %s '%len(X_train[cols1].keys()) )\n",
    "print('Number of Significant Parameters: %s'%(len(significant_params)))\n",
    "print('--- Odds Ratio of the predictors in our model ---')\n",
    "stat_df.loc[significant_params].sort_values('odds_ratio', ascending=False)['odds_ratio']"
   ]
  },
  {
   "cell_type": "markdown",
   "metadata": {},
   "source": [
    "The output of logistic regression provides us with a lot of information. \n",
    "Firstly we can identify the variables which are statistically insignificant in predicting the output variable.\n",
    "This helpd us in feature selection and limiting our model with fewer but best predictors in our model.\n",
    "\n",
    "From the initial model , Variables X1,X3 and X5 are statistically significant as their p-value <0.05. We can try a model with just 3 variables and arrive at good estimates.\n",
    "\n",
    "The model accuracy is around 0.63 with all variables.\n"
   ]
  },
  {
   "cell_type": "markdown",
   "metadata": {},
   "source": [
    "## Feature Selection\n",
    "\n",
    "Two methods which can help in selecting the best features for our model:\n",
    "1. Recursive Feature Elimination.\n",
    "2. Feature importance from Random Forest."
   ]
  },
  {
   "cell_type": "code",
   "execution_count": 149,
   "metadata": {},
   "outputs": [
    {
     "name": "stdout",
     "output_type": "stream",
     "text": [
      "['const', 'x1', 'x2', 'x3', 'x4', 'x5', 'x6']\n",
      "[False  True False  True False  True False]\n",
      "[3 1 5 1 2 1 4]\n"
     ]
    },
    {
     "name": "stderr",
     "output_type": "stream",
     "text": [
      "/opt/anaconda3/lib/python3.7/site-packages/sklearn/utils/validation.py:760: DataConversionWarning: A column-vector y was passed when a 1d array was expected. Please change the shape of y to (n_samples, ), for example using ravel().\n",
      "  y = column_or_1d(y, warn=True)\n"
     ]
    },
    {
     "data": {
      "text/html": [
       "<div>\n",
       "<style scoped>\n",
       "    .dataframe tbody tr th:only-of-type {\n",
       "        vertical-align: middle;\n",
       "    }\n",
       "\n",
       "    .dataframe tbody tr th {\n",
       "        vertical-align: top;\n",
       "    }\n",
       "\n",
       "    .dataframe thead th {\n",
       "        text-align: right;\n",
       "    }\n",
       "</style>\n",
       "<table border=\"1\" class=\"dataframe\">\n",
       "  <thead>\n",
       "    <tr style=\"text-align: right;\">\n",
       "      <th></th>\n",
       "      <th>Predictors</th>\n",
       "      <th>RFE_Support</th>\n",
       "      <th>RFE_Rank</th>\n",
       "    </tr>\n",
       "  </thead>\n",
       "  <tbody>\n",
       "    <tr>\n",
       "      <td>0</td>\n",
       "      <td>const</td>\n",
       "      <td>False</td>\n",
       "      <td>3</td>\n",
       "    </tr>\n",
       "    <tr>\n",
       "      <td>1</td>\n",
       "      <td>x1</td>\n",
       "      <td>True</td>\n",
       "      <td>1</td>\n",
       "    </tr>\n",
       "    <tr>\n",
       "      <td>2</td>\n",
       "      <td>x2</td>\n",
       "      <td>False</td>\n",
       "      <td>5</td>\n",
       "    </tr>\n",
       "    <tr>\n",
       "      <td>3</td>\n",
       "      <td>x3</td>\n",
       "      <td>True</td>\n",
       "      <td>1</td>\n",
       "    </tr>\n",
       "    <tr>\n",
       "      <td>4</td>\n",
       "      <td>x4</td>\n",
       "      <td>False</td>\n",
       "      <td>2</td>\n",
       "    </tr>\n",
       "    <tr>\n",
       "      <td>5</td>\n",
       "      <td>x5</td>\n",
       "      <td>True</td>\n",
       "      <td>1</td>\n",
       "    </tr>\n",
       "    <tr>\n",
       "      <td>6</td>\n",
       "      <td>x6</td>\n",
       "      <td>False</td>\n",
       "      <td>4</td>\n",
       "    </tr>\n",
       "  </tbody>\n",
       "</table>\n",
       "</div>"
      ],
      "text/plain": [
       "  Predictors  RFE_Support  RFE_Rank\n",
       "0      const        False         3\n",
       "1         x1         True         1\n",
       "2         x2        False         5\n",
       "3         x3         True         1\n",
       "4         x4        False         2\n",
       "5         x5         True         1\n",
       "6         x6        False         4"
      ]
     },
     "execution_count": 149,
     "metadata": {},
     "output_type": "execute_result"
    }
   ],
   "source": [
    "## Recursive Feature Elimination - Selecting top predictors.\n",
    "\n",
    "logreg = LogisticRegression()\n",
    "rfe = RFE(logreg, 3)\n",
    "rfe = rfe.fit(X_train[cols1], y_train)\n",
    "print(cols1)\n",
    "print(rfe.support_)\n",
    "print(rfe.ranking_)\n",
    "\n",
    "pd.DataFrame({'Predictors':np.array(cols1), 'RFE_Support':rfe.support_,'RFE_Rank':rfe.ranking_})\n"
   ]
  },
  {
   "cell_type": "markdown",
   "metadata": {},
   "source": [
    "RFE results selectes X1,X3 and X5 as the best 3 feature model for our classification."
   ]
  },
  {
   "cell_type": "code",
   "execution_count": null,
   "metadata": {},
   "outputs": [],
   "source": []
  },
  {
   "cell_type": "code",
   "execution_count": null,
   "metadata": {
    "scrolled": true
   },
   "outputs": [],
   "source": []
  },
  {
   "cell_type": "code",
   "execution_count": 150,
   "metadata": {
    "scrolled": true
   },
   "outputs": [
    {
     "name": "stderr",
     "output_type": "stream",
     "text": [
      "/opt/anaconda3/lib/python3.7/site-packages/ipykernel_launcher.py:10: DataConversionWarning: A column-vector y was passed when a 1d array was expected. Please change the shape of y to (n_samples,), for example using ravel().\n",
      "  # Remove the CWD from sys.path while we load stuff.\n",
      "No handles with labels found to put in legend.\n"
     ]
    },
    {
     "name": "stdout",
     "output_type": "stream",
     "text": [
      "x3    0.233691\n",
      "x5    0.195804\n",
      "x2    0.195673\n",
      "x4    0.191227\n",
      "x6    0.166965\n",
      "x1    0.016639\n",
      "dtype: float64\n"
     ]
    },
    {
     "data": {
      "image/png": "[encoded data removed]",
      "text/plain": [
       "<Figure size 432x288 with 1 Axes>"
      ]
     },
     "metadata": {
      "needs_background": "light"
     },
     "output_type": "display_data"
    }
   ],
   "source": [
    "## Random Forest for Feature Importance - Help us in feature selection.\n",
    "\n",
    "X_rf=loan_application.loc[:, loan_application.columns != \"y\"]\n",
    "y_rf=loan_application.loc[:, loan_application.columns == \"y\"]\n",
    "# Split dataset into training set and test set\n",
    "X_train_rf, X_test_rf, y_train_rf, y_test_rf = train_test_split(X_rf, y_rf, test_size=0.3) # 70% training and 30% test\n",
    "#Create a Gaussian Classifier\n",
    "clf=RandomForestClassifier(n_estimators=100,bootstrap=True,max_features='sqrt')\n",
    "#Train the model using the training sets y_pred=clf.predict(X_test)\n",
    "clf.fit(X_train_rf,y_train_rf)\n",
    "y_pred=clf.predict(X_test_rf)\n",
    "## Feature Importance\n",
    "feature_imp = pd.Series(clf.feature_importances_,index=['x1', 'x2', 'x3', 'x4', 'x5', 'x6']).sort_values(ascending=False)\n",
    "print(feature_imp)\n",
    "\n",
    "%matplotlib inline\n",
    "# Creating a bar plot\n",
    "sb.barplot(x=feature_imp, y=feature_imp.index)\n",
    "# Add labels to your graph\n",
    "plt.xlabel('Feature Importance Score')\n",
    "plt.ylabel('Features')\n",
    "plt.title(\"Visualizing Important Features\")\n",
    "plt.legend()\n",
    "plt.show()\n",
    "\n"
   ]
  },
  {
   "cell_type": "markdown",
   "metadata": {},
   "source": [
    "Variables X3 and X5 have the highest Variable Importances as seen from the Random Forest Model.\n",
    "This is an interesting finding as both our feature selection models outputs variables X3 and X5 as the top predictors.\n",
    "Since Variable X1 was significant in our first model, We can try to build a smaller and more accurate model using just 3 variables.\n"
   ]
  },
  {
   "cell_type": "markdown",
   "metadata": {},
   "source": []
  },
  {
   "cell_type": "markdown",
   "metadata": {},
   "source": [
    "## Final Model"
   ]
  },
  {
   "cell_type": "code",
   "execution_count": 72,
   "metadata": {},
   "outputs": [
    {
     "name": "stdout",
     "output_type": "stream",
     "text": [
      "Optimization terminated successfully.\n",
      "         Current function value: 0.623307\n",
      "         Iterations 5\n",
      "x1    0.279394\n",
      "x3    0.709158\n",
      "x5   -0.298050\n",
      "dtype: float64\n",
      "[[4706. 2752.]\n",
      " [2783. 4759.]]\n",
      "                           Logit Regression Results                           \n",
      "==============================================================================\n",
      "Dep. Variable:                      y   No. Observations:                15000\n",
      "Model:                          Logit   Df Residuals:                    14997\n",
      "Method:                           MLE   Df Model:                            2\n",
      "Date:                Mon, 14 Dec 2020   Pseudo R-squ.:                  0.1007\n",
      "Time:                        01:59:31   Log-Likelihood:                -9349.6\n",
      "converged:                       True   LL-Null:                       -10397.\n",
      "Covariance Type:            nonrobust   LLR p-value:                     0.000\n",
      "==============================================================================\n",
      "                 coef    std err          z      P>|z|      [0.025      0.975]\n",
      "------------------------------------------------------------------------------\n",
      "x1             0.2794      0.018     15.834      0.000       0.245       0.314\n",
      "x3             0.7092      0.018     38.423      0.000       0.673       0.745\n",
      "x5            -0.2980      0.018    -16.810      0.000      -0.333      -0.263\n",
      "==============================================================================\n",
      "              precision    recall  f1-score   support\n",
      "\n",
      "           0       0.63      0.63      0.63      7458\n",
      "           1       0.63      0.63      0.63      7542\n",
      "\n",
      "    accuracy                           0.63     15000\n",
      "   macro avg       0.63      0.63      0.63     15000\n",
      "weighted avg       0.63      0.63      0.63     15000\n",
      "\n",
      "              precision    recall  f1-score   support\n",
      "\n",
      "           0       0.63      0.64      0.64      5040\n",
      "           1       0.63      0.62      0.63      4960\n",
      "\n",
      "    accuracy                           0.63     10000\n",
      "   macro avg       0.63      0.63      0.63     10000\n",
      "weighted avg       0.63      0.63      0.63     10000\n",
      "\n"
     ]
    }
   ],
   "source": [
    "## Final Model after feature selection using above approaches- - Model with X1,x3,x5\n",
    "\n",
    "model2 = sm.Logit(y_train, X_train[[\"x1\",\"x3\",\"x5\"]])\n",
    "result_final = model2.fit()\n",
    "print(result_final.params)\n",
    "predictions_X_train=result_final.predict(X_train[[\"x1\",\"x3\",\"x5\"]])\n",
    "predictions_X_test=result_final.predict(X_test[[\"x1\",\"x3\",\"x5\"]])\n",
    "\n",
    "X_predictions=(result_final.predict(X_train[[\"x1\",\"x3\",\"x5\"]]) >= 0.5).astype(int)\n",
    "y_predictions=(result_final.predict(X_test[[\"x1\",\"x3\",\"x5\"]]) >= 0.5).astype(int)\n",
    "\n",
    "print(result_final.pred_table())\n",
    "print(result_final.summary())\n",
    "\n",
    "### Train Set\n",
    "print(classification_report(y_train, X_predictions))\n",
    "\n",
    "\n",
    "### Test Set\n",
    "print(classification_report(y_test, y_predictions))"
   ]
  },
  {
   "cell_type": "code",
   "execution_count": 75,
   "metadata": {},
   "outputs": [
    {
     "name": "stdout",
     "output_type": "stream",
     "text": [
      "[0.63933333 0.62933333 0.63       0.64066667 0.64666667 0.624\n",
      " 0.62466667 0.61533333 0.62733333 0.634     ]\n",
      "Mean CV Score =  0.6311333333333333\n"
     ]
    },
    {
     "name": "stderr",
     "output_type": "stream",
     "text": [
      "[Parallel(n_jobs=-1)]: Using backend LokyBackend with 8 concurrent workers.\n",
      "[Parallel(n_jobs=-1)]: Done   6 out of  10 | elapsed:    0.1s remaining:    0.1s\n",
      "[Parallel(n_jobs=-1)]: Done  10 out of  10 | elapsed:    0.1s finished\n"
     ]
    }
   ],
   "source": [
    "cv_score = cross_val_score(LogisticRegression(), \n",
    "                            X_train[[\"x1\",\"x3\",\"x5\"]], y_train,\n",
    "                            scoring = 'accuracy',\n",
    "                            cv = 10,\n",
    "                            n_jobs = -1,\n",
    "                            verbose = 1)\n",
    "print(cv_score)\n",
    "print(\"Mean CV Score = \",cv_score.mean())\n"
   ]
  },
  {
   "cell_type": "code",
   "execution_count": null,
   "metadata": {},
   "outputs": [],
   "source": []
  },
  {
   "cell_type": "code",
   "execution_count": 76,
   "metadata": {},
   "outputs": [
    {
     "name": "stdout",
     "output_type": "stream",
     "text": [
      "Index(['x1', 'x3', 'x5'], dtype='object')\n",
      "Total number of parameters: 3 \n",
      "Number of Significant Parameters: 3\n"
     ]
    },
    {
     "data": {
      "text/plain": [
       "x3    2.032280\n",
       "x1    1.322328\n",
       "x5    0.742264\n",
       "Name: odds_ratio, dtype: float64"
      ]
     },
     "execution_count": 76,
     "metadata": {},
     "output_type": "execute_result"
    }
   ],
   "source": [
    "# Fetching the statistics\n",
    "stat_df=pd.DataFrame({'coefficients':result_final.params, 'p-value': result_final.pvalues, 'odds_ratio': np.exp(result_final.params)})\n",
    "# Condition for significant parameters\n",
    "significant_params=stat_df[stat_df['p-value']<=0.05].index\n",
    "#significant_params= significant_params.drop('const')\n",
    "print(significant_params)\n",
    "\n",
    "print('Total number of parameters: %s '%len(X_train[[\"x1\",\"x3\",\"x5\"]].keys()) )\n",
    "print('Number of Significant Parameters: %s'%(len(significant_params)))\n",
    "stat_df.loc[significant_params].sort_values('odds_ratio', ascending=False)['odds_ratio']\n",
    "\n"
   ]
  },
  {
   "cell_type": "code",
   "execution_count": 77,
   "metadata": {},
   "outputs": [
    {
     "data": {
      "text/html": [
       "<table class=\"simpletable\">\n",
       "<caption>Logit Marginal Effects</caption>\n",
       "<tr>\n",
       "  <th>Dep. Variable:</th>    <td>y</td>   \n",
       "</tr>\n",
       "<tr>\n",
       "  <th>Method:</th>         <td>dydx</td>  \n",
       "</tr>\n",
       "<tr>\n",
       "  <th>At:</th>            <td>overall</td>\n",
       "</tr>\n",
       "</table>\n",
       "<table class=\"simpletable\">\n",
       "<tr>\n",
       "   <th></th>     <th>dy/dx</th>    <th>std err</th>      <th>z</th>      <th>P>|z|</th>  <th>[0.025</th>    <th>0.975]</th>  \n",
       "</tr>\n",
       "<tr>\n",
       "  <th>x1</th> <td>    0.0606</td> <td>    0.004</td> <td>   16.342</td> <td> 0.000</td> <td>    0.053</td> <td>    0.068</td>\n",
       "</tr>\n",
       "<tr>\n",
       "  <th>x2</th> <td>    0.0004</td> <td>    0.004</td> <td>    0.118</td> <td> 0.906</td> <td>   -0.007</td> <td>    0.008</td>\n",
       "</tr>\n",
       "<tr>\n",
       "  <th>x3</th> <td>    0.1537</td> <td>    0.003</td> <td>   48.128</td> <td> 0.000</td> <td>    0.147</td> <td>    0.160</td>\n",
       "</tr>\n",
       "<tr>\n",
       "  <th>x4</th> <td>   -0.0050</td> <td>    0.004</td> <td>   -1.319</td> <td> 0.187</td> <td>   -0.012</td> <td>    0.002</td>\n",
       "</tr>\n",
       "<tr>\n",
       "  <th>x5</th> <td>   -0.0646</td> <td>    0.004</td> <td>  -17.418</td> <td> 0.000</td> <td>   -0.072</td> <td>   -0.057</td>\n",
       "</tr>\n",
       "<tr>\n",
       "  <th>x6</th> <td>   -0.0013</td> <td>    0.004</td> <td>   -0.336</td> <td> 0.737</td> <td>   -0.009</td> <td>    0.006</td>\n",
       "</tr>\n",
       "</table>"
      ],
      "text/plain": [
       "<class 'statsmodels.iolib.summary.Summary'>\n",
       "\"\"\"\n",
       "        Logit Marginal Effects       \n",
       "=====================================\n",
       "Dep. Variable:                      y\n",
       "Method:                          dydx\n",
       "At:                           overall\n",
       "==============================================================================\n",
       "                dy/dx    std err          z      P>|z|      [0.025      0.975]\n",
       "------------------------------------------------------------------------------\n",
       "x1             0.0606      0.004     16.342      0.000       0.053       0.068\n",
       "x2             0.0004      0.004      0.118      0.906      -0.007       0.008\n",
       "x3             0.1537      0.003     48.128      0.000       0.147       0.160\n",
       "x4            -0.0050      0.004     -1.319      0.187      -0.012       0.002\n",
       "x5            -0.0646      0.004    -17.418      0.000      -0.072      -0.057\n",
       "x6            -0.0013      0.004     -0.336      0.737      -0.009       0.006\n",
       "==============================================================================\n",
       "\"\"\""
      ]
     },
     "execution_count": 77,
     "metadata": {},
     "output_type": "execute_result"
    }
   ],
   "source": [
    "AME=result.get_margeff(at='overall',method='dydx')\n",
    "AME.summary()"
   ]
  },
  {
   "cell_type": "code",
   "execution_count": null,
   "metadata": {
    "scrolled": true
   },
   "outputs": [],
   "source": []
  },
  {
   "cell_type": "code",
   "execution_count": 78,
   "metadata": {},
   "outputs": [
    {
     "name": "stdout",
     "output_type": "stream",
     "text": [
      "Accuracy: 0.631\n",
      "Accuracy: 0.632\n"
     ]
    }
   ],
   "source": [
    "# Model Accuracy, how often is the classifier correct?\n",
    "print(\"Accuracy:\",metrics.accuracy_score(y_train, X_predictions))\n",
    "print(\"Accuracy:\",metrics.accuracy_score(y_test, y_predictions))\n"
   ]
  },
  {
   "cell_type": "code",
   "execution_count": 79,
   "metadata": {
    "scrolled": true
   },
   "outputs": [
    {
     "name": "stdout",
     "output_type": "stream",
     "text": [
      "Training_ROC_AUC_score= 0.7032822682652662\n",
      "Testing_ROC_AUC_score= 0.7067889344918076\n"
     ]
    }
   ],
   "source": [
    "## ROC AUC Score\n",
    "roc_value_train=roc_auc_score(y_train, predictions_X_train)\n",
    "roc_value_test=roc_auc_score(y_test, predictions_X_test)\n",
    "print(\"Training_ROC_AUC_score=\",roc_value_train)\n",
    "print(\"Testing_ROC_AUC_score=\",roc_value_test)"
   ]
  },
  {
   "cell_type": "code",
   "execution_count": 83,
   "metadata": {},
   "outputs": [
    {
     "name": "stderr",
     "output_type": "stream",
     "text": [
      "No handles with labels found to put in legend.\n"
     ]
    },
    {
     "data": {
      "image/png": "[encoded data removed]",
      "text/plain": [
       "<Figure size 864x576 with 1 Axes>"
      ]
     },
     "metadata": {
      "needs_background": "light"
     },
     "output_type": "display_data"
    }
   ],
   "source": [
    "#y_pred=result_final.predict(X_test[[\"x1\",\"x3\",\"x5\"]])\n",
    "#y_pred_train=result_final.predict(X_train[[\"x1\",\"x3\",\"x5\"]])\n",
    "\n",
    "## ROC Curve for Test Set. -- Out of Sample Accuracy.\n",
    "fpr, tpr, thresholds = roc_curve(y_test, predictions_X_test)\n",
    "# To get roc stats in df\n",
    "roc_df=pd.DataFrame({'thresholds': thresholds,'tpr':tpr,'fpr':fpr})\n",
    "\n",
    "# Plotting the ROC curve\n",
    "plt.figure(figsize=(12,8))\n",
    "plt.plot(fpr, tpr,marker=\"o\")\n",
    "plt.plot([0,1],[0,1])\n",
    "plt.xlim(0,1)\n",
    "plt.ylim(0,1.05)\n",
    "plt.xlabel(\"False Positive Rate\")\n",
    "plt.ylabel(\"True Positive rate\")\n",
    "plt.title(\"Receiver Operatinng Characteristics\")\n",
    "plt.legend(loc=\"lower right\")\n",
    "plt.show()\n"
   ]
  },
  {
   "cell_type": "code",
   "execution_count": null,
   "metadata": {},
   "outputs": [],
   "source": [
    "\n"
   ]
  },
  {
   "cell_type": "code",
   "execution_count": null,
   "metadata": {},
   "outputs": [],
   "source": []
  },
  {
   "cell_type": "code",
   "execution_count": null,
   "metadata": {},
   "outputs": [],
   "source": []
  },
  {
   "cell_type": "code",
   "execution_count": null,
   "metadata": {},
   "outputs": [],
   "source": []
  },
  {
   "cell_type": "code",
   "execution_count": null,
   "metadata": {},
   "outputs": [],
   "source": []
  },
  {
   "cell_type": "code",
   "execution_count": null,
   "metadata": {},
   "outputs": [],
   "source": []
  },
  {
   "cell_type": "code",
   "execution_count": null,
   "metadata": {},
   "outputs": [],
   "source": []
  }
 ],
 "metadata": {
  "kernelspec": {
   "display_name": "Python 3",
   "language": "python",
   "name": "python3"
  },
  "language_info": {
   "codemirror_mode": {
    "name": "ipython",
    "version": 3
   },
   "file_extension": ".py",
   "mimetype": "text/x-python",
   "name": "python",
   "nbconvert_exporter": "python",
   "pygments_lexer": "ipython3",
   "version": "3.7.4"
  }
 },
 "nbformat": 4,
 "nbformat_minor": 2
}
